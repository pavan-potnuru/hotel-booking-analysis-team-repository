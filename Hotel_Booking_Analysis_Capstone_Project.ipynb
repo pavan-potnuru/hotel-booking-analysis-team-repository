{
  "nbformat": 4,
  "nbformat_minor": 0,
  "metadata": {
    "kernelspec": {
      "display_name": "Python 3",
      "language": "python",
      "name": "python3"
    },
    "language_info": {
      "codemirror_mode": {
        "name": "ipython",
        "version": 3
      },
      "file_extension": ".py",
      "mimetype": "text/x-python",
      "name": "python",
      "nbconvert_exporter": "python",
      "pygments_lexer": "ipython3",
      "version": "3.6.6"
    },
    "colab": {
      "name": "Hotel Booking Analysis - Capstone Project.ipynb",
      "provenance": [],
      "collapsed_sections": [],
      "include_colab_link": true
    }
  },
  "cells": [
    {
      "cell_type": "markdown",
      "metadata": {
        "id": "view-in-github",
        "colab_type": "text"
      },
      "source": [
        "<a href=\"https://colab.research.google.com/github/pavan-potnuru/hotel-booking-analysis-team-repository/blob/main/Hotel_Booking_Analysis_Capstone_Project.ipynb\" target=\"_parent\"><img src=\"https://colab.research.google.com/assets/colab-badge.svg\" alt=\"Open In Colab\"/></a>"
      ]
    },
    {
      "cell_type": "markdown",
      "metadata": {
        "id": "Y06xIdG26kRF"
      },
      "source": [
        "## <b> Have you ever wondered when the best time of year to book a hotel room is? Or the optimal length of stay in order to get the best daily rate? What if you wanted to predict whether or not a hotel was likely to receive a disproportionately high number of special requests? This hotel booking dataset can help you explore those questions!\n",
        "\n",
        "## <b>This data set contains booking information for a city hotel and a resort hotel, and includes information such as when the booking was made, length of stay, the number of adults, children, and/or babies, and the number of available parking spaces, among other things. All personally identifying information has been removed from the data. </b>\n",
        "\n",
        "## <b> Explore and analyze the data to discover important factors that govern the bookings. </b>"
      ]
    },
    {
      "cell_type": "code",
      "metadata": {
        "id": "dByMsuzT8Tnw",
        "colab": {
          "base_uri": "https://localhost:8080/",
          "height": 389
        },
        "outputId": "93deffc9-db86-4512-f2ec-892186e10266"
      },
      "source": [
        "import numpy as np\n",
        "import pandas as pd\n",
        "from numpy import math\n",
        "import seaborn as sns\n",
        "import matplotlib.pyplot as plt\n",
        "import warnings\n",
        "warnings.filterwarnings('ignore')\n"
      ],
      "execution_count": 82,
      "outputs": [
        {
          "output_type": "error",
          "ename": "ModuleNotFoundError",
          "evalue": "ignored",
          "traceback": [
            "\u001b[0;31m---------------------------------------------------------------------------\u001b[0m",
            "\u001b[0;31mModuleNotFoundError\u001b[0m                       Traceback (most recent call last)",
            "\u001b[0;32m<ipython-input-82-c25b2abf13fe>\u001b[0m in \u001b[0;36m<module>\u001b[0;34m()\u001b[0m\n\u001b[1;32m      3\u001b[0m \u001b[0;32mfrom\u001b[0m \u001b[0mnumpy\u001b[0m \u001b[0;32mimport\u001b[0m \u001b[0mmath\u001b[0m\u001b[0;34m\u001b[0m\u001b[0;34m\u001b[0m\u001b[0m\n\u001b[1;32m      4\u001b[0m \u001b[0;32mimport\u001b[0m \u001b[0mseaborn\u001b[0m \u001b[0;32mas\u001b[0m \u001b[0msns\u001b[0m\u001b[0;34m\u001b[0m\u001b[0;34m\u001b[0m\u001b[0m\n\u001b[0;32m----> 5\u001b[0;31m \u001b[0;32mimport\u001b[0m \u001b[0msidetable\u001b[0m \u001b[0;32mas\u001b[0m \u001b[0mstb\u001b[0m\u001b[0;34m\u001b[0m\u001b[0;34m\u001b[0m\u001b[0m\n\u001b[0m\u001b[1;32m      6\u001b[0m \u001b[0;32mimport\u001b[0m \u001b[0mmatplotlib\u001b[0m\u001b[0;34m.\u001b[0m\u001b[0mpyplot\u001b[0m \u001b[0;32mas\u001b[0m \u001b[0mplt\u001b[0m\u001b[0;34m\u001b[0m\u001b[0;34m\u001b[0m\u001b[0m\n\u001b[1;32m      7\u001b[0m \u001b[0;32mimport\u001b[0m \u001b[0mwarnings\u001b[0m\u001b[0;34m\u001b[0m\u001b[0;34m\u001b[0m\u001b[0m\n",
            "\u001b[0;31mModuleNotFoundError\u001b[0m: No module named 'sidetable'",
            "",
            "\u001b[0;31m---------------------------------------------------------------------------\u001b[0;32m\nNOTE: If your import is failing due to a missing package, you can\nmanually install dependencies using either !pip or !apt.\n\nTo view examples of installing some common dependencies, click the\n\"Open Examples\" button below.\n\u001b[0;31m---------------------------------------------------------------------------\u001b[0m\n"
          ],
          "errorDetails": {
            "actions": [
              {
                "action": "open_url",
                "actionText": "Open Examples",
                "url": "/notebooks/snippets/importing_libraries.ipynb"
              }
            ]
          }
        }
      ]
    },
    {
      "cell_type": "code",
      "source": [
        "from google.colab import drive\n",
        "drive.mount('/content/drive')"
      ],
      "metadata": {
        "colab": {
          "base_uri": "https://localhost:8080/"
        },
        "id": "narLI5o12Ys2",
        "outputId": "135e7fe3-1a13-4868-a5c2-eaa7cd06155b"
      },
      "execution_count": 3,
      "outputs": [
        {
          "output_type": "stream",
          "name": "stdout",
          "text": [
            "Mounted at /content/drive\n"
          ]
        }
      ]
    },
    {
      "cell_type": "code",
      "source": [
        "# Importing the dataset\n",
        "dataset = pd.read_csv('/content/drive/MyDrive/Copy of Hotel Bookings.csv')"
      ],
      "metadata": {
        "id": "gYdsI-WO2wxq"
      },
      "execution_count": 4,
      "outputs": []
    },
    {
      "cell_type": "markdown",
      "source": [
        "**Data Inspection**"
      ],
      "metadata": {
        "id": "lHYW8Seq3ZDX"
      }
    },
    {
      "cell_type": "code",
      "source": [
        "# First look\n",
        "dataset.head()"
      ],
      "metadata": {
        "colab": {
          "base_uri": "https://localhost:8080/",
          "height": 386
        },
        "id": "GI-Pra_o3Lfk",
        "outputId": "a01cd083-00d9-4d0e-855a-cae19a0af20e"
      },
      "execution_count": 5,
      "outputs": [
        {
          "output_type": "execute_result",
          "data": {
            "text/plain": [
              "          hotel  is_canceled  lead_time  arrival_date_year arrival_date_month  \\\n",
              "0  Resort Hotel            0        342               2015               July   \n",
              "1  Resort Hotel            0        737               2015               July   \n",
              "2  Resort Hotel            0          7               2015               July   \n",
              "3  Resort Hotel            0         13               2015               July   \n",
              "4  Resort Hotel            0         14               2015               July   \n",
              "\n",
              "   arrival_date_week_number  arrival_date_day_of_month  \\\n",
              "0                        27                          1   \n",
              "1                        27                          1   \n",
              "2                        27                          1   \n",
              "3                        27                          1   \n",
              "4                        27                          1   \n",
              "\n",
              "   stays_in_weekend_nights  stays_in_week_nights  adults  ...  deposit_type  \\\n",
              "0                        0                     0       2  ...    No Deposit   \n",
              "1                        0                     0       2  ...    No Deposit   \n",
              "2                        0                     1       1  ...    No Deposit   \n",
              "3                        0                     1       1  ...    No Deposit   \n",
              "4                        0                     2       2  ...    No Deposit   \n",
              "\n",
              "   agent company days_in_waiting_list customer_type   adr  \\\n",
              "0    NaN     NaN                    0     Transient   0.0   \n",
              "1    NaN     NaN                    0     Transient   0.0   \n",
              "2    NaN     NaN                    0     Transient  75.0   \n",
              "3  304.0     NaN                    0     Transient  75.0   \n",
              "4  240.0     NaN                    0     Transient  98.0   \n",
              "\n",
              "   required_car_parking_spaces  total_of_special_requests  reservation_status  \\\n",
              "0                            0                          0           Check-Out   \n",
              "1                            0                          0           Check-Out   \n",
              "2                            0                          0           Check-Out   \n",
              "3                            0                          0           Check-Out   \n",
              "4                            0                          1           Check-Out   \n",
              "\n",
              "  reservation_status_date  \n",
              "0              2015-07-01  \n",
              "1              2015-07-01  \n",
              "2              2015-07-02  \n",
              "3              2015-07-02  \n",
              "4              2015-07-03  \n",
              "\n",
              "[5 rows x 32 columns]"
            ],
            "text/html": [
              "\n",
              "  <div id=\"df-e54a47fa-7c5d-4d88-b381-c610ea0581f9\">\n",
              "    <div class=\"colab-df-container\">\n",
              "      <div>\n",
              "<style scoped>\n",
              "    .dataframe tbody tr th:only-of-type {\n",
              "        vertical-align: middle;\n",
              "    }\n",
              "\n",
              "    .dataframe tbody tr th {\n",
              "        vertical-align: top;\n",
              "    }\n",
              "\n",
              "    .dataframe thead th {\n",
              "        text-align: right;\n",
              "    }\n",
              "</style>\n",
              "<table border=\"1\" class=\"dataframe\">\n",
              "  <thead>\n",
              "    <tr style=\"text-align: right;\">\n",
              "      <th></th>\n",
              "      <th>hotel</th>\n",
              "      <th>is_canceled</th>\n",
              "      <th>lead_time</th>\n",
              "      <th>arrival_date_year</th>\n",
              "      <th>arrival_date_month</th>\n",
              "      <th>arrival_date_week_number</th>\n",
              "      <th>arrival_date_day_of_month</th>\n",
              "      <th>stays_in_weekend_nights</th>\n",
              "      <th>stays_in_week_nights</th>\n",
              "      <th>adults</th>\n",
              "      <th>...</th>\n",
              "      <th>deposit_type</th>\n",
              "      <th>agent</th>\n",
              "      <th>company</th>\n",
              "      <th>days_in_waiting_list</th>\n",
              "      <th>customer_type</th>\n",
              "      <th>adr</th>\n",
              "      <th>required_car_parking_spaces</th>\n",
              "      <th>total_of_special_requests</th>\n",
              "      <th>reservation_status</th>\n",
              "      <th>reservation_status_date</th>\n",
              "    </tr>\n",
              "  </thead>\n",
              "  <tbody>\n",
              "    <tr>\n",
              "      <th>0</th>\n",
              "      <td>Resort Hotel</td>\n",
              "      <td>0</td>\n",
              "      <td>342</td>\n",
              "      <td>2015</td>\n",
              "      <td>July</td>\n",
              "      <td>27</td>\n",
              "      <td>1</td>\n",
              "      <td>0</td>\n",
              "      <td>0</td>\n",
              "      <td>2</td>\n",
              "      <td>...</td>\n",
              "      <td>No Deposit</td>\n",
              "      <td>NaN</td>\n",
              "      <td>NaN</td>\n",
              "      <td>0</td>\n",
              "      <td>Transient</td>\n",
              "      <td>0.0</td>\n",
              "      <td>0</td>\n",
              "      <td>0</td>\n",
              "      <td>Check-Out</td>\n",
              "      <td>2015-07-01</td>\n",
              "    </tr>\n",
              "    <tr>\n",
              "      <th>1</th>\n",
              "      <td>Resort Hotel</td>\n",
              "      <td>0</td>\n",
              "      <td>737</td>\n",
              "      <td>2015</td>\n",
              "      <td>July</td>\n",
              "      <td>27</td>\n",
              "      <td>1</td>\n",
              "      <td>0</td>\n",
              "      <td>0</td>\n",
              "      <td>2</td>\n",
              "      <td>...</td>\n",
              "      <td>No Deposit</td>\n",
              "      <td>NaN</td>\n",
              "      <td>NaN</td>\n",
              "      <td>0</td>\n",
              "      <td>Transient</td>\n",
              "      <td>0.0</td>\n",
              "      <td>0</td>\n",
              "      <td>0</td>\n",
              "      <td>Check-Out</td>\n",
              "      <td>2015-07-01</td>\n",
              "    </tr>\n",
              "    <tr>\n",
              "      <th>2</th>\n",
              "      <td>Resort Hotel</td>\n",
              "      <td>0</td>\n",
              "      <td>7</td>\n",
              "      <td>2015</td>\n",
              "      <td>July</td>\n",
              "      <td>27</td>\n",
              "      <td>1</td>\n",
              "      <td>0</td>\n",
              "      <td>1</td>\n",
              "      <td>1</td>\n",
              "      <td>...</td>\n",
              "      <td>No Deposit</td>\n",
              "      <td>NaN</td>\n",
              "      <td>NaN</td>\n",
              "      <td>0</td>\n",
              "      <td>Transient</td>\n",
              "      <td>75.0</td>\n",
              "      <td>0</td>\n",
              "      <td>0</td>\n",
              "      <td>Check-Out</td>\n",
              "      <td>2015-07-02</td>\n",
              "    </tr>\n",
              "    <tr>\n",
              "      <th>3</th>\n",
              "      <td>Resort Hotel</td>\n",
              "      <td>0</td>\n",
              "      <td>13</td>\n",
              "      <td>2015</td>\n",
              "      <td>July</td>\n",
              "      <td>27</td>\n",
              "      <td>1</td>\n",
              "      <td>0</td>\n",
              "      <td>1</td>\n",
              "      <td>1</td>\n",
              "      <td>...</td>\n",
              "      <td>No Deposit</td>\n",
              "      <td>304.0</td>\n",
              "      <td>NaN</td>\n",
              "      <td>0</td>\n",
              "      <td>Transient</td>\n",
              "      <td>75.0</td>\n",
              "      <td>0</td>\n",
              "      <td>0</td>\n",
              "      <td>Check-Out</td>\n",
              "      <td>2015-07-02</td>\n",
              "    </tr>\n",
              "    <tr>\n",
              "      <th>4</th>\n",
              "      <td>Resort Hotel</td>\n",
              "      <td>0</td>\n",
              "      <td>14</td>\n",
              "      <td>2015</td>\n",
              "      <td>July</td>\n",
              "      <td>27</td>\n",
              "      <td>1</td>\n",
              "      <td>0</td>\n",
              "      <td>2</td>\n",
              "      <td>2</td>\n",
              "      <td>...</td>\n",
              "      <td>No Deposit</td>\n",
              "      <td>240.0</td>\n",
              "      <td>NaN</td>\n",
              "      <td>0</td>\n",
              "      <td>Transient</td>\n",
              "      <td>98.0</td>\n",
              "      <td>0</td>\n",
              "      <td>1</td>\n",
              "      <td>Check-Out</td>\n",
              "      <td>2015-07-03</td>\n",
              "    </tr>\n",
              "  </tbody>\n",
              "</table>\n",
              "<p>5 rows × 32 columns</p>\n",
              "</div>\n",
              "      <button class=\"colab-df-convert\" onclick=\"convertToInteractive('df-e54a47fa-7c5d-4d88-b381-c610ea0581f9')\"\n",
              "              title=\"Convert this dataframe to an interactive table.\"\n",
              "              style=\"display:none;\">\n",
              "        \n",
              "  <svg xmlns=\"http://www.w3.org/2000/svg\" height=\"24px\"viewBox=\"0 0 24 24\"\n",
              "       width=\"24px\">\n",
              "    <path d=\"M0 0h24v24H0V0z\" fill=\"none\"/>\n",
              "    <path d=\"M18.56 5.44l.94 2.06.94-2.06 2.06-.94-2.06-.94-.94-2.06-.94 2.06-2.06.94zm-11 1L8.5 8.5l.94-2.06 2.06-.94-2.06-.94L8.5 2.5l-.94 2.06-2.06.94zm10 10l.94 2.06.94-2.06 2.06-.94-2.06-.94-.94-2.06-.94 2.06-2.06.94z\"/><path d=\"M17.41 7.96l-1.37-1.37c-.4-.4-.92-.59-1.43-.59-.52 0-1.04.2-1.43.59L10.3 9.45l-7.72 7.72c-.78.78-.78 2.05 0 2.83L4 21.41c.39.39.9.59 1.41.59.51 0 1.02-.2 1.41-.59l7.78-7.78 2.81-2.81c.8-.78.8-2.07 0-2.86zM5.41 20L4 18.59l7.72-7.72 1.47 1.35L5.41 20z\"/>\n",
              "  </svg>\n",
              "      </button>\n",
              "      \n",
              "  <style>\n",
              "    .colab-df-container {\n",
              "      display:flex;\n",
              "      flex-wrap:wrap;\n",
              "      gap: 12px;\n",
              "    }\n",
              "\n",
              "    .colab-df-convert {\n",
              "      background-color: #E8F0FE;\n",
              "      border: none;\n",
              "      border-radius: 50%;\n",
              "      cursor: pointer;\n",
              "      display: none;\n",
              "      fill: #1967D2;\n",
              "      height: 32px;\n",
              "      padding: 0 0 0 0;\n",
              "      width: 32px;\n",
              "    }\n",
              "\n",
              "    .colab-df-convert:hover {\n",
              "      background-color: #E2EBFA;\n",
              "      box-shadow: 0px 1px 2px rgba(60, 64, 67, 0.3), 0px 1px 3px 1px rgba(60, 64, 67, 0.15);\n",
              "      fill: #174EA6;\n",
              "    }\n",
              "\n",
              "    [theme=dark] .colab-df-convert {\n",
              "      background-color: #3B4455;\n",
              "      fill: #D2E3FC;\n",
              "    }\n",
              "\n",
              "    [theme=dark] .colab-df-convert:hover {\n",
              "      background-color: #434B5C;\n",
              "      box-shadow: 0px 1px 3px 1px rgba(0, 0, 0, 0.15);\n",
              "      filter: drop-shadow(0px 1px 2px rgba(0, 0, 0, 0.3));\n",
              "      fill: #FFFFFF;\n",
              "    }\n",
              "  </style>\n",
              "\n",
              "      <script>\n",
              "        const buttonEl =\n",
              "          document.querySelector('#df-e54a47fa-7c5d-4d88-b381-c610ea0581f9 button.colab-df-convert');\n",
              "        buttonEl.style.display =\n",
              "          google.colab.kernel.accessAllowed ? 'block' : 'none';\n",
              "\n",
              "        async function convertToInteractive(key) {\n",
              "          const element = document.querySelector('#df-e54a47fa-7c5d-4d88-b381-c610ea0581f9');\n",
              "          const dataTable =\n",
              "            await google.colab.kernel.invokeFunction('convertToInteractive',\n",
              "                                                     [key], {});\n",
              "          if (!dataTable) return;\n",
              "\n",
              "          const docLinkHtml = 'Like what you see? Visit the ' +\n",
              "            '<a target=\"_blank\" href=https://colab.research.google.com/notebooks/data_table.ipynb>data table notebook</a>'\n",
              "            + ' to learn more about interactive tables.';\n",
              "          element.innerHTML = '';\n",
              "          dataTable['output_type'] = 'display_data';\n",
              "          await google.colab.output.renderOutput(dataTable, element);\n",
              "          const docLink = document.createElement('div');\n",
              "          docLink.innerHTML = docLinkHtml;\n",
              "          element.appendChild(docLink);\n",
              "        }\n",
              "      </script>\n",
              "    </div>\n",
              "  </div>\n",
              "  "
            ]
          },
          "metadata": {},
          "execution_count": 5
        }
      ]
    },
    {
      "cell_type": "code",
      "source": [
        "dataset.info()"
      ],
      "metadata": {
        "colab": {
          "base_uri": "https://localhost:8080/"
        },
        "id": "n46Egl9U4aKl",
        "outputId": "c8fc2474-1797-4b16-8832-1e7f5d609bba"
      },
      "execution_count": 6,
      "outputs": [
        {
          "output_type": "stream",
          "name": "stdout",
          "text": [
            "<class 'pandas.core.frame.DataFrame'>\n",
            "RangeIndex: 119390 entries, 0 to 119389\n",
            "Data columns (total 32 columns):\n",
            " #   Column                          Non-Null Count   Dtype  \n",
            "---  ------                          --------------   -----  \n",
            " 0   hotel                           119390 non-null  object \n",
            " 1   is_canceled                     119390 non-null  int64  \n",
            " 2   lead_time                       119390 non-null  int64  \n",
            " 3   arrival_date_year               119390 non-null  int64  \n",
            " 4   arrival_date_month              119390 non-null  object \n",
            " 5   arrival_date_week_number        119390 non-null  int64  \n",
            " 6   arrival_date_day_of_month       119390 non-null  int64  \n",
            " 7   stays_in_weekend_nights         119390 non-null  int64  \n",
            " 8   stays_in_week_nights            119390 non-null  int64  \n",
            " 9   adults                          119390 non-null  int64  \n",
            " 10  children                        119386 non-null  float64\n",
            " 11  babies                          119390 non-null  int64  \n",
            " 12  meal                            119390 non-null  object \n",
            " 13  country                         118902 non-null  object \n",
            " 14  market_segment                  119390 non-null  object \n",
            " 15  distribution_channel            119390 non-null  object \n",
            " 16  is_repeated_guest               119390 non-null  int64  \n",
            " 17  previous_cancellations          119390 non-null  int64  \n",
            " 18  previous_bookings_not_canceled  119390 non-null  int64  \n",
            " 19  reserved_room_type              119390 non-null  object \n",
            " 20  assigned_room_type              119390 non-null  object \n",
            " 21  booking_changes                 119390 non-null  int64  \n",
            " 22  deposit_type                    119390 non-null  object \n",
            " 23  agent                           103050 non-null  float64\n",
            " 24  company                         6797 non-null    float64\n",
            " 25  days_in_waiting_list            119390 non-null  int64  \n",
            " 26  customer_type                   119390 non-null  object \n",
            " 27  adr                             119390 non-null  float64\n",
            " 28  required_car_parking_spaces     119390 non-null  int64  \n",
            " 29  total_of_special_requests       119390 non-null  int64  \n",
            " 30  reservation_status              119390 non-null  object \n",
            " 31  reservation_status_date         119390 non-null  object \n",
            "dtypes: float64(4), int64(16), object(12)\n",
            "memory usage: 29.1+ MB\n"
          ]
        }
      ]
    },
    {
      "cell_type": "markdown",
      "source": [
        "# **DataSet Information:**\n",
        " \n",
        " hotel : Type of he hotel (Categorical)\n",
        " \n",
        " is_canceled : whether booking is canceled 0 - not canceled 1-canceled(Categorical)\n",
        "\n",
        "lead_time : the number of days between the time a guest books their room and the time they are scheduled to arrive at the hotel.(Numerical)\n",
        "\n",
        "arrival_date_year : year of Arravial (Numerical)\n",
        "\n",
        "arrival_date_month : month of arravial (Categorical)\n",
        "\n",
        "arrival_date_week_number : Week of arravail (Numerical)\n",
        "\n",
        "arrival_date_day_of_month : Arravial day (Nummerical)\n",
        "\n",
        "stays_in_weekend_nights : no of weekend nights during the stay (Numerical)\n",
        "\n",
        "stays_in_week_nights : no of night stays in week days (Numerical)\n",
        "\n",
        "adults : number of adults (Numerical)\n",
        "\n",
        "children : number of Childeren (Numerical)\n",
        "\n",
        "babies : number of babies (Numerical)\n",
        "\n",
        "meal : Type of meal (categorical)\n",
        "\n",
        "country : Country of customer (Categorical)\n",
        "\n",
        "market_segment : Means through wich hotel got booking (Categorical)\n",
        "\n",
        "distribution_channel :  Means through wich hotel got booking (Categorical)\n",
        "\n",
        "is_repeated_guest : whether the guest is repated 0-not repeated 1 -repeatd (categorical)\n",
        "\n",
        "previous_cancellations : number of canceletions done by customer previously (categorical)\n",
        "\n",
        "previous_bookings_not_canceled : number of bookings compeleted without canceletion (Numerical)\n",
        "\n",
        "reserved_room_type : reserved type of room (Categorical)\n",
        "\n",
        "assigned_room_type : type of room assigned (Categorical)\n",
        "\n",
        "booking_changes : canges made to booking (Numerical)\n",
        "\n",
        "deposit_type : type of deposit (categorical)\n",
        "\n",
        "agent : ID of agent (Categorical)\n",
        "\n",
        "company : ID of company (categorical)\n",
        "\n",
        "days_in_waiting_list : no of days to wait (Numerical)\n",
        "\n",
        "customer_type : type of customer (Categorical)\n",
        "\n",
        "required_car_parking_spaces : Number of parking spaces required (Numerical)\n",
        "\n",
        "total_of_special_requests : special request made by customer (Numberical)\n",
        "\n",
        "reservation_status : Status of reservation (Categorical)\n",
        "\n",
        "reservation_status_date : Date of reservation (Date)\n",
        "\n",
        "adr : average daily rate (Numerical)\n",
        "\n",
        "\n"
      ],
      "metadata": {
        "id": "EL0QpXvz5Hv8"
      }
    },
    {
      "cell_type": "code",
      "source": [
        "#creating a copy of data\n",
        "new_df = dataset.copy()"
      ],
      "metadata": {
        "id": "dS-ku4lvlQqk"
      },
      "execution_count": 7,
      "outputs": []
    },
    {
      "cell_type": "markdown",
      "source": [
        "# **Data Cleaning**\n",
        "\n",
        "Data cleaning is an importent part of EDA, in data cleaning we perform operations like\n",
        "\n",
        " 1) Removing Duplicates\n",
        "\n",
        " 2) Handling missing values\n",
        "\n",
        " 3) Handling Features (i.e, Merging similar columns, removing irrelavant columns and correting the data types)"
      ],
      "metadata": {
        "id": "k1GhHZfqiAGT"
      }
    },
    {
      "cell_type": "markdown",
      "source": [
        "**1.Removing Duplicates**"
      ],
      "metadata": {
        "id": "W2Qk7DNmkSX2"
      }
    },
    {
      "cell_type": "code",
      "source": [
        "# Show no. of rows of duplicate rows duplicate rows\n",
        "new_df[new_df.duplicated()].shape   "
      ],
      "metadata": {
        "colab": {
          "base_uri": "https://localhost:8080/"
        },
        "id": "unzyHkzOkOFB",
        "outputId": "38909516-d955-49b0-fca6-a3e84fe2e4f1"
      },
      "execution_count": 8,
      "outputs": [
        {
          "output_type": "execute_result",
          "data": {
            "text/plain": [
              "(31994, 32)"
            ]
          },
          "metadata": {},
          "execution_count": 8
        }
      ]
    },
    {
      "cell_type": "code",
      "source": [
        "# Removing duplicate values\n",
        "new_df.drop_duplicates(inplace = True)"
      ],
      "metadata": {
        "id": "s6bAocOJlwji"
      },
      "execution_count": 9,
      "outputs": []
    },
    {
      "cell_type": "code",
      "source": [
        "#checking for duplicates\n",
        "new_df[new_df.duplicated()].shape"
      ],
      "metadata": {
        "colab": {
          "base_uri": "https://localhost:8080/"
        },
        "id": "9rwiBnADmCfb",
        "outputId": "967ab67d-463b-4ed9-9c7e-f92ed24cb29b"
      },
      "execution_count": 10,
      "outputs": [
        {
          "output_type": "execute_result",
          "data": {
            "text/plain": [
              "(0, 32)"
            ]
          },
          "metadata": {},
          "execution_count": 10
        }
      ]
    },
    {
      "cell_type": "code",
      "source": [
        "# number of obeservations after removing duplicates\n",
        "new_df.shape"
      ],
      "metadata": {
        "colab": {
          "base_uri": "https://localhost:8080/"
        },
        "id": "q8tE4VJLmPLY",
        "outputId": "3d4dc0e0-70ca-4cac-f7b1-9ed0222c9acd"
      },
      "execution_count": 11,
      "outputs": [
        {
          "output_type": "execute_result",
          "data": {
            "text/plain": [
              "(87396, 32)"
            ]
          },
          "metadata": {},
          "execution_count": 11
        }
      ]
    },
    {
      "cell_type": "markdown",
      "source": [
        "**2.Handling missing values**"
      ],
      "metadata": {
        "id": "FLN9oPk1nUU7"
      }
    },
    {
      "cell_type": "code",
      "source": [
        "# null value count in each colum\n",
        "new_df.isnull().sum().sort_values()"
      ],
      "metadata": {
        "colab": {
          "base_uri": "https://localhost:8080/"
        },
        "id": "GCJR4Dx3nTqn",
        "outputId": "47bd0cdc-fbc7-403e-caf1-ede8ae0d8cfc"
      },
      "execution_count": 12,
      "outputs": [
        {
          "output_type": "execute_result",
          "data": {
            "text/plain": [
              "hotel                                 0\n",
              "total_of_special_requests             0\n",
              "required_car_parking_spaces           0\n",
              "adr                                   0\n",
              "customer_type                         0\n",
              "days_in_waiting_list                  0\n",
              "deposit_type                          0\n",
              "booking_changes                       0\n",
              "assigned_room_type                    0\n",
              "reserved_room_type                    0\n",
              "previous_bookings_not_canceled        0\n",
              "previous_cancellations                0\n",
              "is_repeated_guest                     0\n",
              "reservation_status                    0\n",
              "distribution_channel                  0\n",
              "reservation_status_date               0\n",
              "meal                                  0\n",
              "babies                                0\n",
              "adults                                0\n",
              "stays_in_week_nights                  0\n",
              "stays_in_weekend_nights               0\n",
              "arrival_date_day_of_month             0\n",
              "market_segment                        0\n",
              "is_canceled                           0\n",
              "arrival_date_week_number              0\n",
              "arrival_date_month                    0\n",
              "arrival_date_year                     0\n",
              "lead_time                             0\n",
              "children                              4\n",
              "country                             452\n",
              "agent                             12193\n",
              "company                           82137\n",
              "dtype: int64"
            ]
          },
          "metadata": {},
          "execution_count": 12
        }
      ]
    },
    {
      "cell_type": "markdown",
      "source": [
        "from above we can see that only four columns( children, country, agent and company) have missing values."
      ],
      "metadata": {
        "id": "vSp_aNMXpGIq"
      }
    },
    {
      "cell_type": "code",
      "source": [
        "new_df[['company','agent']] = new_df[['company','agent']].fillna(0)"
      ],
      "metadata": {
        "id": "zFedLB3jo9LR"
      },
      "execution_count": 13,
      "outputs": []
    },
    {
      "cell_type": "markdown",
      "source": [
        "Since agent and company are booking mediums for customers there is a chance that customer can book directly without any medium. So we can replace the null values with 0."
      ],
      "metadata": {
        "id": "tXsvlXgDrgg4"
      }
    },
    {
      "cell_type": "code",
      "source": [
        "new_df['country'] = new_df['country'].fillna('others')"
      ],
      "metadata": {
        "id": "-UjlzfyZsZ7J"
      },
      "execution_count": 14,
      "outputs": []
    },
    {
      "cell_type": "markdown",
      "source": [
        "We have 452 null values in country column, so we can fill these with 'others'"
      ],
      "metadata": {
        "id": "TThUeXGOsuU5"
      }
    },
    {
      "cell_type": "code",
      "source": [
        "new_df['children'] = new_df['children'].fillna(0)"
      ],
      "metadata": {
        "id": "EW-fduOBtJl-"
      },
      "execution_count": 15,
      "outputs": []
    },
    {
      "cell_type": "markdown",
      "source": [
        "We can replace the null values in childern column with 0, since there is a high chance for customers having zero childern might be missing to fill the column "
      ],
      "metadata": {
        "id": "GdRRgv4GtZ5x"
      }
    },
    {
      "cell_type": "code",
      "source": [
        "#checking all the missing values were removed\n",
        "new_df.isnull().sum().sort_values()"
      ],
      "metadata": {
        "colab": {
          "base_uri": "https://localhost:8080/"
        },
        "id": "IPxRmfZrulVm",
        "outputId": "dde9f7c1-db59-494e-fe51-5f82f84530f8"
      },
      "execution_count": 16,
      "outputs": [
        {
          "output_type": "execute_result",
          "data": {
            "text/plain": [
              "hotel                             0\n",
              "total_of_special_requests         0\n",
              "required_car_parking_spaces       0\n",
              "adr                               0\n",
              "customer_type                     0\n",
              "days_in_waiting_list              0\n",
              "company                           0\n",
              "agent                             0\n",
              "deposit_type                      0\n",
              "booking_changes                   0\n",
              "assigned_room_type                0\n",
              "reserved_room_type                0\n",
              "previous_bookings_not_canceled    0\n",
              "previous_cancellations            0\n",
              "is_repeated_guest                 0\n",
              "distribution_channel              0\n",
              "market_segment                    0\n",
              "country                           0\n",
              "meal                              0\n",
              "babies                            0\n",
              "children                          0\n",
              "adults                            0\n",
              "stays_in_week_nights              0\n",
              "stays_in_weekend_nights           0\n",
              "arrival_date_day_of_month         0\n",
              "arrival_date_week_number          0\n",
              "arrival_date_month                0\n",
              "arrival_date_year                 0\n",
              "lead_time                         0\n",
              "is_canceled                       0\n",
              "reservation_status                0\n",
              "reservation_status_date           0\n",
              "dtype: int64"
            ]
          },
          "metadata": {},
          "execution_count": 16
        }
      ]
    },
    {
      "cell_type": "markdown",
      "source": [
        "There are some rows where adult,children and babies column has 0 in it. We can remove those row for which these three column have 0 as value simultaneously."
      ],
      "metadata": {
        "id": "e9DD7F_qvs8M"
      }
    },
    {
      "cell_type": "code",
      "source": [
        "#checking how many rows have adult, childern and babies as 0\n",
        "new_df[new_df['adults']+new_df['children']+new_df['babies'] == 0].shape"
      ],
      "metadata": {
        "colab": {
          "base_uri": "https://localhost:8080/"
        },
        "id": "aSYiProZwbr1",
        "outputId": "30a578b7-31fb-4469-8555-472de28e356f"
      },
      "execution_count": 17,
      "outputs": [
        {
          "output_type": "execute_result",
          "data": {
            "text/plain": [
              "(166, 32)"
            ]
          },
          "metadata": {},
          "execution_count": 17
        }
      ]
    },
    {
      "cell_type": "code",
      "source": [
        "# we have 166 rows with 0 values so we can drop these rows\n",
        "new_df.drop(new_df[new_df['adults']+new_df['children']+new_df['babies'] == 0].index,inplace=True)"
      ],
      "metadata": {
        "id": "8y_YrVKkxT-w"
      },
      "execution_count": 18,
      "outputs": []
    },
    {
      "cell_type": "markdown",
      "source": [
        "**3.Features Handling**"
      ],
      "metadata": {
        "id": "cUn6FNuiu2ss"
      }
    },
    {
      "cell_type": "code",
      "source": [
        "new_df.info()"
      ],
      "metadata": {
        "colab": {
          "base_uri": "https://localhost:8080/"
        },
        "id": "bNwicmP8u-q6",
        "outputId": "1eb47328-4b5c-4390-b419-98e7f567afa5"
      },
      "execution_count": 19,
      "outputs": [
        {
          "output_type": "stream",
          "name": "stdout",
          "text": [
            "<class 'pandas.core.frame.DataFrame'>\n",
            "Int64Index: 87230 entries, 0 to 119389\n",
            "Data columns (total 32 columns):\n",
            " #   Column                          Non-Null Count  Dtype  \n",
            "---  ------                          --------------  -----  \n",
            " 0   hotel                           87230 non-null  object \n",
            " 1   is_canceled                     87230 non-null  int64  \n",
            " 2   lead_time                       87230 non-null  int64  \n",
            " 3   arrival_date_year               87230 non-null  int64  \n",
            " 4   arrival_date_month              87230 non-null  object \n",
            " 5   arrival_date_week_number        87230 non-null  int64  \n",
            " 6   arrival_date_day_of_month       87230 non-null  int64  \n",
            " 7   stays_in_weekend_nights         87230 non-null  int64  \n",
            " 8   stays_in_week_nights            87230 non-null  int64  \n",
            " 9   adults                          87230 non-null  int64  \n",
            " 10  children                        87230 non-null  float64\n",
            " 11  babies                          87230 non-null  int64  \n",
            " 12  meal                            87230 non-null  object \n",
            " 13  country                         87230 non-null  object \n",
            " 14  market_segment                  87230 non-null  object \n",
            " 15  distribution_channel            87230 non-null  object \n",
            " 16  is_repeated_guest               87230 non-null  int64  \n",
            " 17  previous_cancellations          87230 non-null  int64  \n",
            " 18  previous_bookings_not_canceled  87230 non-null  int64  \n",
            " 19  reserved_room_type              87230 non-null  object \n",
            " 20  assigned_room_type              87230 non-null  object \n",
            " 21  booking_changes                 87230 non-null  int64  \n",
            " 22  deposit_type                    87230 non-null  object \n",
            " 23  agent                           87230 non-null  float64\n",
            " 24  company                         87230 non-null  float64\n",
            " 25  days_in_waiting_list            87230 non-null  int64  \n",
            " 26  customer_type                   87230 non-null  object \n",
            " 27  adr                             87230 non-null  float64\n",
            " 28  required_car_parking_spaces     87230 non-null  int64  \n",
            " 29  total_of_special_requests       87230 non-null  int64  \n",
            " 30  reservation_status              87230 non-null  object \n",
            " 31  reservation_status_date         87230 non-null  object \n",
            "dtypes: float64(4), int64(16), object(12)\n",
            "memory usage: 22.0+ MB\n"
          ]
        }
      ]
    },
    {
      "cell_type": "code",
      "source": [
        "new_df[['market_segment','distribution_channel']].value_counts()"
      ],
      "metadata": {
        "colab": {
          "base_uri": "https://localhost:8080/"
        },
        "id": "kCOZH71ayY_9",
        "outputId": "6a83c319-ad60-4dbc-ef3d-bc6715e2907e"
      },
      "execution_count": 20,
      "outputs": [
        {
          "output_type": "execute_result",
          "data": {
            "text/plain": [
              "market_segment  distribution_channel\n",
              "Online TA       TA/TO                   51254\n",
              "Offline TA/TO   TA/TO                   13700\n",
              "Direct          Direct                  11467\n",
              "Corporate       Corporate                3893\n",
              "Groups          TA/TO                    3606\n",
              "                Corporate                 665\n",
              "                Direct                    651\n",
              "Complementary   Direct                    539\n",
              "Direct          TA/TO                     229\n",
              "Aviation        Corporate                 216\n",
              "Corporate       TA/TO                     154\n",
              "                Direct                    153\n",
              "Online TA       GDS                       136\n",
              "                Direct                    128\n",
              "Offline TA/TO   Corporate                  95\n",
              "Direct          Corporate                  81\n",
              "Complementary   Corporate                  78\n",
              "                TA/TO                      75\n",
              "Offline TA/TO   GDS                        44\n",
              "Online TA       Corporate                  34\n",
              "Offline TA/TO   Direct                     16\n",
              "Aviation        TA/TO                      10\n",
              "Direct          Undefined                   2\n",
              "Undefined       Undefined                   2\n",
              "Direct          GDS                         1\n",
              "Online TA       Undefined                   1\n",
              "dtype: int64"
            ]
          },
          "metadata": {},
          "execution_count": 20
        }
      ]
    },
    {
      "cell_type": "markdown",
      "source": [
        "From above we can see that, even though market_segment and distribution_channel looks similar but there sub categories in each market_segment. So we cannot merge or remove any one of these two columns."
      ],
      "metadata": {
        "id": "jyb10UrK0T1m"
      }
    },
    {
      "cell_type": "markdown",
      "source": [
        ""
      ],
      "metadata": {
        "id": "jscC0NG91SXb"
      }
    },
    {
      "cell_type": "markdown",
      "source": [
        "We can create a new colums for total number of night stays by adding stays_in_weekend_nights and stays_in_week_nights as total_night_stays"
      ],
      "metadata": {
        "id": "GeirC4aQ1S3U"
      }
    },
    {
      "cell_type": "code",
      "source": [
        "#creating new column for total night stays\n",
        "new_df['total_night_stays'] = new_df['stays_in_week_nights']+new_df['stays_in_weekend_nights']"
      ],
      "metadata": {
        "id": "pGSPk_XE1okO"
      },
      "execution_count": 21,
      "outputs": []
    },
    {
      "cell_type": "code",
      "source": [
        "lead_time_months =new_df['lead_time'] // 30\n",
        "lead_time_months.value_counts() / len(new_df)\n",
        "new_df['lead_time_month'] = new_df['lead_time'] // 30\n"
      ],
      "metadata": {
        "id": "Ea4X_Byjq3fP"
      },
      "execution_count": 74,
      "outputs": []
    },
    {
      "cell_type": "code",
      "source": [
        "def cancellation(row):\n",
        "    if (row['previous_cancellations'] == 0):\n",
        "        return 0\n",
        "    else :\n",
        "        return 1\n",
        "\n",
        "new_df['is_previously_cancelled'] = new_df.apply(cancellation, axis = 1)\n"
      ],
      "metadata": {
        "id": "12NnCWeatUMM"
      },
      "execution_count": 83,
      "outputs": []
    },
    {
      "cell_type": "code",
      "source": [
        "#creating new column for total night stays\n",
        "new_df['kids'] = new_df['babies']+new_df['children']"
      ],
      "metadata": {
        "id": "GBhXymEtVbym"
      },
      "execution_count": 53,
      "outputs": []
    },
    {
      "cell_type": "code",
      "source": [
        "#creating new column for total number of people\n",
        "new_df['total_people'] = new_df['babies']+new_df['children']+new_df['adults']"
      ],
      "metadata": {
        "id": "KtwbZ3BV19n-"
      },
      "execution_count": 22,
      "outputs": []
    },
    {
      "cell_type": "code",
      "source": [
        "#changing data type from float to integer\n",
        "new_df[['children', 'company', 'agent','total_people']] = new_df[['children', 'company', 'agent','total_people']].astype('int64')"
      ],
      "metadata": {
        "id": "gpx6jMtW217o"
      },
      "execution_count": 23,
      "outputs": []
    },
    {
      "cell_type": "code",
      "source": [
        "#changing to date type from string\n",
        "new_df['reservation_status_date'] = pd.to_datetime(new_df['reservation_status_date'], format = '%Y-%m-%d')"
      ],
      "metadata": {
        "id": "F0DcQlvj4KFQ"
      },
      "execution_count": 24,
      "outputs": []
    },
    {
      "cell_type": "markdown",
      "source": [
        "# **Exploratory Data Analysis**"
      ],
      "metadata": {
        "id": "8pp96pzr8LFl"
      }
    },
    {
      "cell_type": "code",
      "source": [
        "def plot(x, y, x_label=None,y_label=None, title=None, figsize=(7,5), type='bar'):\n",
        "    \n",
        "    '''\n",
        "    INPUT:\n",
        "        x:        Array containing values for x-axis\n",
        "        y:        Array containing values for y-axis\n",
        "        x_lable:  String value for x-axis label\n",
        "        y_lable:  String value for y-axis label\n",
        "        title:    String value for plot title\n",
        "        figsize:  tuple value, for figure size\n",
        "        type:     type of plot (default is bar plot)\n",
        "        \n",
        "    OUTPUT:\n",
        "        Display the plot\n",
        "    '''\n",
        "    \n",
        "    sns.set_style('darkgrid')\n",
        "    \n",
        "    fig, ax = plt.subplots(figsize=figsize)\n",
        "    \n",
        "    if x_label != None:\n",
        "        ax.set_xlabel(x_label)\n",
        "    \n",
        "    if y_label != None:\n",
        "        ax.set_ylabel(y_label)\n",
        "        \n",
        "    if title != None:\n",
        "        ax.set_title(title)\n",
        "    \n",
        "    if type == 'bar':\n",
        "        sns.barplot(x,y, ax = ax)\n",
        "    elif type == 'line':\n",
        "        sns.lineplot(x,y, ax = ax)\n",
        "        \n",
        "    \n",
        "    plt.show()"
      ],
      "metadata": {
        "id": "8BHHCTpaiEVn"
      },
      "execution_count": 25,
      "outputs": []
    },
    {
      "cell_type": "markdown",
      "source": [
        "**Univariate Analysis**"
      ],
      "metadata": {
        "id": "9P_fGkZSD-yk"
      }
    },
    {
      "cell_type": "code",
      "source": [
        "# is_canceled\n",
        "df1 = new_df['is_canceled']\n",
        "df1 = df1.value_counts()\n",
        "x=df1.index.values\n",
        "y=df1.values\n",
        "plot(x,y,x_label='is_canceled(0=not canceled,1=canceled)',y_label='count',title='Booking info(canceled/not canceled',figsize=(7,5),type='bar')\n",
        "no_of_confirmed_bookings = df1[0]\n",
        "no_of_canceled_bookings = df1[1]\n",
        "count_of_bookings = no_of_canceled_bookings+no_of_confirmed_bookings\n",
        "print(f'Percentage of conformed bookings {round((no_of_confirmed_bookings/count_of_bookings)*100,2)} \\nPercentage of Canceled bookings {round((no_of_canceled_bookings/count_of_bookings)*100,2)}')"
      ],
      "metadata": {
        "colab": {
          "base_uri": "https://localhost:8080/",
          "height": 388
        },
        "id": "ATYwS-kTEBAv",
        "outputId": "7cd445be-fc04-4e76-fb8f-07bbf97be667"
      },
      "execution_count": 26,
      "outputs": [
        {
          "output_type": "display_data",
          "data": {
            "text/plain": [
              "<Figure size 504x360 with 1 Axes>"
            ],
            "image/png": "[encoded data removed]"
          },
          "metadata": {}
        },
        {
          "output_type": "stream",
          "name": "stdout",
          "text": [
            "Percentage of conformed bookings 72.48 \n",
            "Percentage of Canceled bookings 27.52\n"
          ]
        }
      ]
    },
    {
      "cell_type": "code",
      "source": [
        "#Hotel\n",
        "df1=new_df['hotel']\n",
        "df1=df1.value_counts()\n",
        "x=df1.index.values\n",
        "y=df1.values\n",
        "plot(x,y,x_label='Type of hotel',y_label='count',title='Hotel')\n",
        "\n",
        "city_hotel=df1[0]\n",
        "resort_hotel=df1[1]\n",
        "sum=city_hotel+resort_hotel\n",
        "print('city_hotel =' + str(city_hotel/sum*100) + ', resort_hotel = '+ str(resort_hotel/sum*100))"
      ],
      "metadata": {
        "id": "cNeVlMcwKwKb",
        "colab": {
          "base_uri": "https://localhost:8080/",
          "height": 368
        },
        "outputId": "ec72dfd9-b0b4-47f3-a0f3-7e2f2345ebbb"
      },
      "execution_count": 27,
      "outputs": [
        {
          "output_type": "display_data",
          "data": {
            "text/plain": [
              "<Figure size 504x360 with 1 Axes>"
            ],
            "image/png": "[encoded data removed]"
          },
          "metadata": {}
        },
        {
          "output_type": "stream",
          "name": "stdout",
          "text": [
            "city_hotel =61.073025335320416, resort_hotel = 38.926974664679584\n"
          ]
        }
      ]
    },
    {
      "cell_type": "code",
      "source": [
        "#Country\n",
        "df1=new_df['country']\n",
        "df1=df1.value_counts()[:10]\n",
        "x=df1.index.values\n",
        "y=df1.values\n",
        "plot(x,y,x_label='Country',y_label='count',title='Country Distribution')"
      ],
      "metadata": {
        "id": "1ZtLznHRMrIY",
        "colab": {
          "base_uri": "https://localhost:8080/",
          "height": 350
        },
        "outputId": "8c839317-9c57-42f9-8350-d02528aced25"
      },
      "execution_count": 28,
      "outputs": [
        {
          "output_type": "display_data",
          "data": {
            "text/plain": [
              "<Figure size 504x360 with 1 Axes>"
            ],
            "image/png": "[encoded data removed]"
          },
          "metadata": {}
        }
      ]
    },
    {
      "cell_type": "code",
      "source": [
        "#Market Segment\n",
        "df1=new_df['market_segment']\n",
        "df1=df1.value_counts()\n",
        "x=df1.index.values\n",
        "y=df1.values\n",
        "plot(x,y,x_label='Market Segment',y_label='count',title='Market Segment Distribution')"
      ],
      "metadata": {
        "colab": {
          "base_uri": "https://localhost:8080/",
          "height": 350
        },
        "id": "GMY8u6-nOVBE",
        "outputId": "9a09ee80-3524-436b-d801-3cdfa1c779bf"
      },
      "execution_count": 29,
      "outputs": [
        {
          "output_type": "display_data",
          "data": {
            "text/plain": [
              "<Figure size 504x360 with 1 Axes>"
            ],
            "image/png": "[encoded data removed]"
          },
          "metadata": {}
        }
      ]
    },
    {
      "cell_type": "code",
      "source": [
        "#is_repeated\n",
        "df1=new_df['is_repeated_guest']\n",
        "df1=df1.value_counts()\n",
        "x=df1.index.values\n",
        "y=df1.values\n",
        "plot(x,y,x_label='is_repeated_guest (0= Not repeated, 1= Repeated)',y_label='count',title='Repeated customers distribution')"
      ],
      "metadata": {
        "colab": {
          "base_uri": "https://localhost:8080/",
          "height": 351
        },
        "id": "qYjbBBgFPZmF",
        "outputId": "080f54d1-bea9-47d3-bd48-aa111fc9d6df"
      },
      "execution_count": 30,
      "outputs": [
        {
          "output_type": "display_data",
          "data": {
            "text/plain": [
              "<Figure size 504x360 with 1 Axes>"
            ],
            "image/png": "[encoded data removed]"
          },
          "metadata": {}
        }
      ]
    },
    {
      "cell_type": "code",
      "source": [
        "#previous_cancellations\n",
        "df1=new_df['previous_cancellations']\n",
        "df1=df1.value_counts()[:2]\n",
        "x=df1.index.values\n",
        "y=df1.values\n",
        "plot(x,y,x_label='previous_cancellations',y_label='count',title='Previous cancellations')"
      ],
      "metadata": {
        "colab": {
          "base_uri": "https://localhost:8080/",
          "height": 351
        },
        "id": "JZJ2P5z2469x",
        "outputId": "7c786696-199b-4d07-eb47-aa8f03e259b9"
      },
      "execution_count": 31,
      "outputs": [
        {
          "output_type": "display_data",
          "data": {
            "text/plain": [
              "<Figure size 504x360 with 1 Axes>"
            ],
            "image/png": "[encoded data removed]"
          },
          "metadata": {}
        }
      ]
    },
    {
      "cell_type": "code",
      "source": [
        "#deposit_type\n",
        "df1=new_df['deposit_type']\n",
        "df1=df1.value_counts()\n",
        "x=df1.index.values\n",
        "y=df1.values\n",
        "plot(x,y,x_label='deposit_type',y_label='count',title='Deposit type')"
      ],
      "metadata": {
        "id": "HKs5JMmoFVUI",
        "colab": {
          "base_uri": "https://localhost:8080/",
          "height": 351
        },
        "outputId": "dc65819b-613a-464a-f2a2-60cd423631cc"
      },
      "execution_count": 32,
      "outputs": [
        {
          "output_type": "display_data",
          "data": {
            "text/plain": [
              "<Figure size 504x360 with 1 Axes>"
            ],
            "image/png": "[encoded data removed]"
          },
          "metadata": {}
        }
      ]
    },
    {
      "cell_type": "code",
      "source": [
        "df1=new_df['agent']\n",
        "df1=df1.value_counts()[:10]\n",
        "x=df1.index.values\n",
        "y=df1.values\n",
        "plot(x,y,x_label='agent',y_label='count',title='agent')"
      ],
      "metadata": {
        "colab": {
          "base_uri": "https://localhost:8080/",
          "height": 350
        },
        "id": "eKyAPvXdLQAV",
        "outputId": "3b0cf74c-1301-4e42-ff66-f9bfe985cc0d"
      },
      "execution_count": 33,
      "outputs": [
        {
          "output_type": "display_data",
          "data": {
            "text/plain": [
              "<Figure size 504x360 with 1 Axes>"
            ],
            "image/png": "[encoded data removed]"
          },
          "metadata": {}
        }
      ]
    },
    {
      "cell_type": "code",
      "source": [
        "#customer_type\n",
        "df1=new_df['customer_type']\n",
        "df1=df1.value_counts()[:10]\n",
        "x=df1.index.values\n",
        "y=df1.values\n",
        "plot(x,y,x_label='customer_type',y_label='count',title='customer_type')"
      ],
      "metadata": {
        "colab": {
          "base_uri": "https://localhost:8080/",
          "height": 350
        },
        "id": "SGX_AfQ3m2tx",
        "outputId": "c24ec0d4-401f-44e3-c81e-a7acbaed9863"
      },
      "execution_count": 34,
      "outputs": [
        {
          "output_type": "display_data",
          "data": {
            "text/plain": [
              "<Figure size 504x360 with 1 Axes>"
            ],
            "image/png": "[encoded data removed]"
          },
          "metadata": {}
        }
      ]
    },
    {
      "cell_type": "code",
      "source": [
        "#reserved_room_type\n",
        "df1=new_df['reserved_room_type']\n",
        "df1=df1.value_counts()\n",
        "x=df1.index.values\n",
        "y=df1.values\n",
        "plot(x,y,x_label='Reserved Room Type',y_label='count',title='Reserved Room Type')"
      ],
      "metadata": {
        "colab": {
          "base_uri": "https://localhost:8080/",
          "height": 350
        },
        "id": "4xDkY_Sh7lOU",
        "outputId": "f39da5e7-0f98-461a-c939-c92b4b8e0d0a"
      },
      "execution_count": 35,
      "outputs": [
        {
          "output_type": "display_data",
          "data": {
            "text/plain": [
              "<Figure size 504x360 with 1 Axes>"
            ],
            "image/png": "[encoded data removed]"
          },
          "metadata": {}
        }
      ]
    },
    {
      "cell_type": "code",
      "source": [
        "#assigned_room_type\n",
        "df1=new_df['assigned_room_type']\n",
        "df1=df1.value_counts()\n",
        "x=df1.index.values\n",
        "y=df1.values\n",
        "plot(x,y,x_label='Assigned Room Type',y_label='count',title='Assigned Room Type')"
      ],
      "metadata": {
        "colab": {
          "base_uri": "https://localhost:8080/",
          "height": 350
        },
        "id": "kxITTSZsnAvo",
        "outputId": "cfae1ea1-b3a0-4cc6-f7fe-89d821f8acb4"
      },
      "execution_count": 36,
      "outputs": [
        {
          "output_type": "display_data",
          "data": {
            "text/plain": [
              "<Figure size 504x360 with 1 Axes>"
            ],
            "image/png": "[encoded data removed]"
          },
          "metadata": {}
        }
      ]
    },
    {
      "cell_type": "code",
      "source": [
        "#arrival_date_month\n",
        "df1=new_df['arrival_date_month']\n",
        "df1=df1.value_counts()\n",
        "x=df1.index.values\n",
        "y=df1.values\n",
        "plot(x,y,x_label='Month',y_label='count',figsize=(13,8),title='Month')"
      ],
      "metadata": {
        "colab": {
          "base_uri": "https://localhost:8080/",
          "height": 513
        },
        "id": "DmoXtIySnCW1",
        "outputId": "2312bbdf-e4e5-423a-eb06-a7c40e5ce978"
      },
      "execution_count": 37,
      "outputs": [
        {
          "output_type": "display_data",
          "data": {
            "text/plain": [
              "<Figure size 936x576 with 1 Axes>"
            ],
            "image/png": "[encoded data removed]"
          },
          "metadata": {}
        }
      ]
    },
    {
      "cell_type": "markdown",
      "source": [
        "**Bi-Varient Analysis**\n",
        "With Cancellation data"
      ],
      "metadata": {
        "id": "b7YWmEESnR11"
      }
    },
    {
      "cell_type": "code",
      "source": [
        ""
      ],
      "metadata": {
        "id": "BqrI7XXGuHpZ"
      },
      "execution_count": 37,
      "outputs": []
    },
    {
      "cell_type": "code",
      "source": [
        " #Hotel\n",
        " # Selecting and counting number of cancelled bookings for each hotel.\n",
        "cancelled_data = new_df[new_df['is_canceled'] == 1]\n",
        "cancel_grp = cancelled_data.groupby('hotel')\n",
        "D1 = pd.DataFrame(cancel_grp.size()).rename(columns = {0:'total_cancelled_bookings'})\n",
        "\n",
        "# Counting total number of bookings for each type of hotel\n",
        "grouped_by_hotel = new_df.groupby('hotel')\n",
        "total_booking = grouped_by_hotel.size()\n",
        "D2 = pd.DataFrame(total_booking).rename(columns = {0: 'total_bookings'})\n",
        "D3 = pd.concat([D1,D2], axis = 1)\n",
        "\n",
        "# Calculating cancel percentage \n",
        "D3['cancel_%'] = round((D3['total_cancelled_bookings']/D3['total_bookings'])*100,2)\n",
        "print(D3)\n",
        "\n",
        "plt.figure(figsize = (10,5))\n",
        "ax = sns.barplot(x = D3.index, y = D3['cancel_%'])\n",
        "plt.show()\n"
      ],
      "metadata": {
        "colab": {
          "base_uri": "https://localhost:8080/",
          "height": 407
        },
        "id": "L8PQhca1nS0_",
        "outputId": "ff2cda38-76f2-41f4-e4b4-e76d1cedfa4b"
      },
      "execution_count": 38,
      "outputs": [
        {
          "output_type": "stream",
          "name": "stdout",
          "text": [
            "              total_cancelled_bookings  total_bookings  cancel_%\n",
            "hotel                                                           \n",
            "City Hotel                       16035           53274     30.10\n",
            "Resort Hotel                      7974           33956     23.48\n"
          ]
        },
        {
          "output_type": "display_data",
          "data": {
            "text/plain": [
              "<Figure size 720x360 with 1 Axes>"
            ],
            "image/png": "[encoded data removed]"
          },
          "metadata": {}
        }
      ]
    },
    {
      "cell_type": "code",
      "source": [
        "# arrival_month\n",
        " # Selecting and counting number of cancelled bookings for each hotel.\n",
        "cancelled_data = new_df[new_df['is_canceled'] == 1]\n",
        "cancel_grp = cancelled_data.groupby('arrival_date_month')\n",
        "D1 = pd.DataFrame(cancel_grp.size()).rename(columns = {0:'total_cancelled_bookings'})\n",
        "\n",
        "# Counting total number of bookings for each type of hotel\n",
        "grouped_by_hotel = new_df.groupby('arrival_date_month')\n",
        "total_booking = grouped_by_hotel.size()\n",
        "D2 = pd.DataFrame(total_booking).rename(columns = {0: 'total_bookings'})\n",
        "D3 = pd.concat([D1,D2], axis = 1)\n",
        "\n",
        "# Calculating cancel percentage \n",
        "D3['cancel_%'] = round((D3['total_cancelled_bookings']/D3['total_bookings'])*100,2)\n",
        "print(D3)\n",
        "\n",
        "plt.figure(figsize = (10,7))\n",
        "sns.barplot(x = D3.index, y = D3['cancel_%'],order=['January','February','March','April','May','June','July','August','September','October','November','December'])\n",
        "plt.show()\n",
        "\n",
        " # Selecting and counting number of cancelled bookings for each hotel.\n",
        "cancelled_data = new_df[new_df['is_canceled'] == 0]\n",
        "cancel_grp = cancelled_data.groupby('arrival_date_month')\n",
        "D1 = pd.DataFrame(cancel_grp.size()).rename(columns = {0:'total_confirmed_bookings'})\n",
        "\n",
        "# Counting total number of bookings for each type of hotel\n",
        "grouped_by_hotel = new_df.groupby('arrival_date_month')\n",
        "total_booking = grouped_by_hotel.size()\n",
        "D2 = pd.DataFrame(total_booking).rename(columns = {0: 'total_bookings'})\n",
        "D3 = pd.concat([D1,D2], axis = 1)\n",
        "\n",
        "# Calculating cancel percentage \n",
        "D3['confirmed_%'] = round((D3['total_confirmed_bookings']/D3['total_bookings'])*100,2)\n",
        "print(D3)\n",
        "\n",
        "plt.figure(figsize = (10,7))\n",
        "sns.barplot(x = D3.index, y = D3['confirmed_%'],order=['January','February','March','April','May','June','July','August','September','October','November','December'])\n",
        "plt.show()"
      ],
      "metadata": {
        "colab": {
          "base_uri": "https://localhost:8080/",
          "height": 1000
        },
        "id": "Gi3pK8C3nGqU",
        "outputId": "ec68a362-ccd1-46f3-aa50-33d647faa606"
      },
      "execution_count": 40,
      "outputs": [
        {
          "output_type": "stream",
          "name": "stdout",
          "text": [
            "                    total_cancelled_bookings  total_bookings  cancel_%\n",
            "arrival_date_month                                                    \n",
            "April                                   2406            7900     30.46\n",
            "August                                  3622           11242     32.22\n",
            "December                                1377            5112     26.94\n",
            "February                                1412            6083     23.21\n",
            "January                                 1037            4685     22.13\n",
            "July                                    3196           10043     31.82\n",
            "June                                    2353            7756     30.34\n",
            "March                                   1829            7489     24.42\n",
            "May                                     2442            8344     29.27\n",
            "November                                1052            4973     21.15\n",
            "October                                 1642            6921     23.72\n",
            "September                               1641            6682     24.56\n"
          ]
        },
        {
          "output_type": "display_data",
          "data": {
            "text/plain": [
              "<Figure size 720x504 with 1 Axes>"
            ],
            "image/png": "[encoded data removed]"
          },
          "metadata": {}
        },
        {
          "output_type": "stream",
          "name": "stdout",
          "text": [
            "                    total_confirmed_bookings  total_bookings  confirmed_%\n",
            "arrival_date_month                                                       \n",
            "April                                   5494            7900        69.54\n",
            "August                                  7620           11242        67.78\n",
            "December                                3735            5112        73.06\n",
            "February                                4671            6083        76.79\n",
            "January                                 3648            4685        77.87\n",
            "July                                    6847           10043        68.18\n",
            "June                                    5403            7756        69.66\n",
            "March                                   5660            7489        75.58\n",
            "May                                     5902            8344        70.73\n",
            "November                                3921            4973        78.85\n",
            "October                                 5279            6921        76.28\n",
            "September                               5041            6682        75.44\n"
          ]
        },
        {
          "output_type": "display_data",
          "data": {
            "text/plain": [
              "<Figure size 720x504 with 1 Axes>"
            ],
            "image/png": "[encoded data removed]"
          },
          "metadata": {}
        }
      ]
    },
    {
      "cell_type": "code",
      "source": [
        "# market_segment\n",
        "# Selecting and counting number of cancelled bookings.\n",
        "cancelled_data = new_df[new_df['is_canceled'] == 1]\n",
        "cancel_grp = cancelled_data.groupby('market_segment')\n",
        "D1 = pd.DataFrame(cancel_grp.size()).rename(columns = {0:'total_cancelled_bookings'})\n",
        "\n",
        "# Selecting and counting number of confirmed bookings.\n",
        "confirmed_data = new_df[new_df['is_canceled'] == 0]\n",
        "confirmed_grp = confirmed_data.groupby('market_segment')\n",
        "D4 = pd.DataFrame(confirmed_grp.size()).rename(columns = {0:'total_confirmed_bookings'})\n",
        "\n",
        "# Counting total number of bookings for each type of hotel\n",
        "grouped_by_hotel = new_df.groupby('market_segment')\n",
        "total_booking = grouped_by_hotel.size()\n",
        "D2 = pd.DataFrame(total_booking).rename(columns = {0: 'total_bookings'})\n",
        "D3 = pd.concat([D1,D2,D4], axis = 1)\n",
        "\n",
        "# Calculating cancel percentage \n",
        "D3['cancel_%'] = round((D3['total_cancelled_bookings']/D3['total_bookings'])*100,2)\n",
        "\n",
        "\n",
        "# Calculating confirned percentage \n",
        "D3['confirmed_%'] = round((D3['total_confirmed_bookings']/D3['total_bookings'])*100,2)\n",
        "print(D3)\n",
        "\n",
        "plt.figure(figsize = (10,5))\n",
        "ax = sns.barplot(x = D3.index, y = D3['cancel_%'])\n",
        "plt.show()\n",
        "\n",
        "plt.figure(figsize = (10,5))\n",
        "ax = sns.barplot(x = D3.index, y = D3['confirmed_%'])\n",
        "plt.show()"
      ],
      "metadata": {
        "colab": {
          "base_uri": "https://localhost:8080/",
          "height": 1000
        },
        "id": "7_QZtT9VHGdv",
        "outputId": "699794ff-d564-43c7-8402-ecf89e11a601"
      },
      "execution_count": 52,
      "outputs": [
        {
          "output_type": "stream",
          "name": "stdout",
          "text": [
            "                total_cancelled_bookings  total_bookings  \\\n",
            "market_segment                                             \n",
            "Aviation                              45             226   \n",
            "Complementary                         85             692   \n",
            "Corporate                            509            4200   \n",
            "Direct                              1737           11780   \n",
            "Groups                              1332            4922   \n",
            "Offline TA/TO                       2057           13855   \n",
            "Online TA                          18242           51553   \n",
            "Undefined                              2               2   \n",
            "\n",
            "                total_confirmed_bookings  cancel_%  confirmed_%  \n",
            "market_segment                                                   \n",
            "Aviation                           181.0     19.91        80.09  \n",
            "Complementary                      607.0     12.28        87.72  \n",
            "Corporate                         3691.0     12.12        87.88  \n",
            "Direct                           10043.0     14.75        85.25  \n",
            "Groups                            3590.0     27.06        72.94  \n",
            "Offline TA/TO                    11798.0     14.85        85.15  \n",
            "Online TA                        33311.0     35.38        64.62  \n",
            "Undefined                            NaN    100.00          NaN  \n"
          ]
        },
        {
          "output_type": "display_data",
          "data": {
            "text/plain": [
              "<Figure size 720x360 with 1 Axes>"
            ],
            "image/png": "[encoded data removed]"
          },
          "metadata": {}
        },
        {
          "output_type": "display_data",
          "data": {
            "text/plain": [
              "<Figure size 720x360 with 1 Axes>"
            ],
            "image/png": "[encoded data removed]"
          },
          "metadata": {}
        }
      ]
    },
    {
      "cell_type": "code",
      "source": [
        "#deposit_type\n",
        " # Selecting and counting number of cancelled bookings for each hotel.\n",
        "cancelled_data = new_df[new_df['is_canceled'] == 1]\n",
        "cancel_grp = cancelled_data.groupby('deposit_type')\n",
        "D1 = pd.DataFrame(cancel_grp.size()).rename(columns = {0:'total_cancelled_bookings'})\n",
        "\n",
        "# Counting total number of bookings for each type of hotel\n",
        "grouped_by_hotel = new_df.groupby('deposit_type')\n",
        "total_booking = grouped_by_hotel.size()\n",
        "D2 = pd.DataFrame(total_booking).rename(columns = {0: 'total_bookings'})\n",
        "D3 = pd.concat([D1,D2], axis = 1)\n",
        "\n",
        "# Calculating cancel percentage \n",
        "D3['cancel_%'] = round((D3['total_cancelled_bookings']/D3['total_bookings'])*100,2)\n",
        "print(D3)\n",
        "\n",
        "plt.figure(figsize = (10,5))\n",
        "ax = sns.barplot(x = D3.index, y = D3['cancel_%'])\n",
        "plt.show()"
      ],
      "metadata": {
        "colab": {
          "base_uri": "https://localhost:8080/",
          "height": 426
        },
        "id": "rwnNk9ghJ6Zd",
        "outputId": "8b5c1765-3de1-41f2-81cd-8e324565ea71"
      },
      "execution_count": 54,
      "outputs": [
        {
          "output_type": "stream",
          "name": "stdout",
          "text": [
            "              total_cancelled_bookings  total_bookings  cancel_%\n",
            "deposit_type                                                    \n",
            "No Deposit                       23000           86085     26.72\n",
            "Non Refund                         983            1038     94.70\n",
            "Refundable                          26             107     24.30\n"
          ]
        },
        {
          "output_type": "display_data",
          "data": {
            "text/plain": [
              "<Figure size 720x360 with 1 Axes>"
            ],
            "image/png": "[encoded data removed]"
          },
          "metadata": {}
        }
      ]
    },
    {
      "cell_type": "code",
      "source": [
        "#Lead_time_month\n",
        " # Selecting and counting number of cancelled bookings for each hotel.\n",
        "cancelled_data = new_df[new_df['is_canceled'] == 1]\n",
        "cancel_grp = cancelled_data.groupby('lead_time_month')\n",
        "D1 = pd.DataFrame(cancel_grp.size()).rename(columns = {0:'total_cancelled_bookings'})\n",
        "\n",
        "# Counting total number of bookings for each type of hotel\n",
        "grouped_by_hotel = new_df.groupby('lead_time_month')\n",
        "total_booking = grouped_by_hotel.size()\n",
        "D2 = pd.DataFrame(total_booking).rename(columns = {0: 'total_bookings'})\n",
        "D3 = pd.concat([D1,D2], axis = 1)\n",
        "\n",
        "# Calculating cancel percentage \n",
        "D3['cancel_%'] = round((D3['total_cancelled_bookings']/D3['total_bookings'])*100,2)\n",
        "print(D3)\n",
        "\n",
        "\n",
        "plt.figure(figsize = (10,8))\n",
        "ax = sns.barplot(x = D3.index, y = D3['cancel_%'])\n",
        "plt.show()"
      ],
      "metadata": {
        "colab": {
          "base_uri": "https://localhost:8080/",
          "height": 954
        },
        "id": "r8BR5j-jjoW6",
        "outputId": "2e455d88-5e64-413e-90e8-d5a2b2a44c72"
      },
      "execution_count": 77,
      "outputs": [
        {
          "output_type": "stream",
          "name": "stdout",
          "text": [
            "                 total_cancelled_bookings  total_bookings  cancel_%\n",
            "lead_time_month                                                    \n",
            "0                                  5510.0           33995     16.21\n",
            "1                                  4252.0           13503     31.49\n",
            "2                                  3126.0            9484     32.96\n",
            "3                                  2501.0            7286     34.33\n",
            "4                                  2050.0            5733     35.76\n",
            "5                                  1837.0            5296     34.69\n",
            "6                                  1394.0            3800     36.68\n",
            "7                                   990.0            2765     35.80\n",
            "8                                   742.0            1744     42.55\n",
            "9                                   540.0            1308     41.28\n",
            "10                                  492.0             992     49.60\n",
            "11                                  322.0             652     49.39\n",
            "12                                   70.0             271     25.83\n",
            "13                                   49.0             126     38.89\n",
            "14                                   30.0              75     40.00\n",
            "15                                   49.0             115     42.61\n",
            "16                                   14.0              21     66.67\n",
            "17                                   13.0              17     76.47\n",
            "18                                    8.0              25     32.00\n",
            "19                                    8.0               8    100.00\n",
            "20                                   12.0              12    100.00\n",
            "23                                    NaN               1       NaN\n",
            "24                                    NaN               1       NaN\n"
          ]
        },
        {
          "output_type": "display_data",
          "data": {
            "text/plain": [
              "<Figure size 720x576 with 1 Axes>"
            ],
            "image/png": "[encoded data removed]"
          },
          "metadata": {}
        }
      ]
    },
    {
      "cell_type": "code",
      "source": [
        "new_df.info()"
      ],
      "metadata": {
        "id": "vhUX4ntVs6N4"
      },
      "execution_count": null,
      "outputs": []
    },
    {
      "cell_type": "code",
      "source": [
        "#previous_cancellations\n",
        " # Selecting and counting number of cancelled bookings for each hotel.\n",
        "cancelled_data = new_df[new_df['is_canceled'] == 1]\n",
        "cancel_grp = cancelled_data.groupby('is_previously_cancelled')\n",
        "D1 = pd.DataFrame(cancel_grp.size()).rename(columns = {0:'total_cancelled_bookings'})\n",
        "\n",
        "# Counting total number of bookings for each type of hotel\n",
        "grouped_by_hotel = new_df.groupby('is_previously_cancelled')\n",
        "total_booking = grouped_by_hotel.size()\n",
        "D2 = pd.DataFrame(total_booking).rename(columns = {0: 'total_bookings'})\n",
        "D3 = pd.concat([D1,D2], axis = 1)\n",
        "\n",
        "# Calculating cancel percentage \n",
        "D3['cancel_%'] = round((D3['total_cancelled_bookings']/D3['total_bookings'])*100,2)\n",
        "print(D3)\n",
        "\n",
        "\n",
        "plt.figure(figsize = (10,8))\n",
        "ax = sns.barplot(x = D3.index, y = D3['cancel_%'])\n",
        "plt.show()"
      ],
      "metadata": {
        "colab": {
          "base_uri": "https://localhost:8080/",
          "height": 571
        },
        "id": "amG1QND4kXqf",
        "outputId": "2ba3ff39-574f-4bc5-9d27-4a7cdd0cb0f5"
      },
      "execution_count": 85,
      "outputs": [
        {
          "output_type": "stream",
          "name": "stdout",
          "text": [
            "                         total_cancelled_bookings  total_bookings  cancel_%\n",
            "is_previously_cancelled                                                    \n",
            "0                                           22866           85549     26.73\n",
            "1                                            1143            1681     68.00\n"
          ]
        },
        {
          "output_type": "display_data",
          "data": {
            "text/plain": [
              "<Figure size 720x576 with 1 Axes>"
            ],
            "image/png": "[encoded data removed]"
          },
          "metadata": {}
        }
      ]
    },
    {
      "cell_type": "code",
      "source": [
        "\n"
      ],
      "metadata": {
        "id": "AXWsd8RhmRYh"
      },
      "execution_count": null,
      "outputs": []
    }
  ]
}