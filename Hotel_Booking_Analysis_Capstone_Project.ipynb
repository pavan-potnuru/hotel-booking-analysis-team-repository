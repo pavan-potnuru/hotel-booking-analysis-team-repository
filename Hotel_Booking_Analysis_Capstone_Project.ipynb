{
  "nbformat": 4,
  "nbformat_minor": 0,
  "metadata": {
    "kernelspec": {
      "display_name": "Python 3",
      "language": "python",
      "name": "python3"
    },
    "language_info": {
      "codemirror_mode": {
        "name": "ipython",
        "version": 3
      },
      "file_extension": ".py",
      "mimetype": "text/x-python",
      "name": "python",
      "nbconvert_exporter": "python",
      "pygments_lexer": "ipython3",
      "version": "3.6.6"
    },
    "colab": {
      "name": "Hotel Booking Analysis - Capstone Project.ipynb",
      "provenance": [],
      "include_colab_link": true
    }
  },
  "cells": [
    {
      "cell_type": "markdown",
      "metadata": {
        "id": "view-in-github",
        "colab_type": "text"
      },
      "source": [
        "<a href=\"https://colab.research.google.com/github/pavan-potnuru/hotel-booking-analysis-team-repository/blob/main/Hotel_Booking_Analysis_Capstone_Project.ipynb\" target=\"_parent\"><img src=\"https://colab.research.google.com/assets/colab-badge.svg\" alt=\"Open In Colab\"/></a>"
      ]
    },
    {
      "cell_type": "markdown",
      "metadata": {
        "id": "Y06xIdG26kRF"
      },
      "source": [
        "## <b> Have you ever wondered when the best time of year to book a hotel room is? Or the optimal length of stay in order to get the best daily rate? What if you wanted to predict whether or not a hotel was likely to receive a disproportionately high number of special requests? This hotel booking dataset can help you explore those questions!\n",
        "\n",
        "## <b>This data set contains booking information for a city hotel and a resort hotel, and includes information such as when the booking was made, length of stay, the number of adults, children, and/or babies, and the number of available parking spaces, among other things. All personally identifying information has been removed from the data. </b>\n",
        "\n",
        "## <b> Explore and analyze the data to discover important factors that govern the bookings. </b>"
      ]
    },
    {
      "cell_type": "code",
      "metadata": {
        "id": "dByMsuzT8Tnw"
      },
      "source": [
        "import numpy as np\n",
        "import pandas as pd\n",
        "from numpy import math\n",
        "import seaborn as sns\n",
        "import matplotlib.pyplot as plt\n",
        "import warnings\n",
        "warnings.filterwarnings('ignore')\n"
      ],
      "execution_count": 1,
      "outputs": []
    },
    {
      "cell_type": "code",
      "source": [
        "from google.colab import drive\n",
        "drive.mount('/content/drive')"
      ],
      "metadata": {
        "colab": {
          "base_uri": "https://localhost:8080/"
        },
        "id": "narLI5o12Ys2",
        "outputId": "15637679-7654-477d-ea90-57ba32df07ac"
      },
      "execution_count": 2,
      "outputs": [
        {
          "output_type": "stream",
          "name": "stdout",
          "text": [
            "Mounted at /content/drive\n"
          ]
        }
      ]
    },
    {
      "cell_type": "code",
      "source": [
        "# Importing the dataset\n",
        "dataset = pd.read_csv('/content/drive/MyDrive/Copy of Hotel Bookings.csv')"
      ],
      "metadata": {
        "id": "gYdsI-WO2wxq"
      },
      "execution_count": 3,
      "outputs": []
    },
    {
      "cell_type": "markdown",
      "source": [
        "Data Inspection"
      ],
      "metadata": {
        "id": "lHYW8Seq3ZDX"
      }
    },
    {
      "cell_type": "code",
      "source": [
        "# First look\n",
        "dataset.head()"
      ],
      "metadata": {
        "colab": {
          "base_uri": "https://localhost:8080/",
          "height": 386
        },
        "id": "GI-Pra_o3Lfk",
        "outputId": "3765731c-3599-4fce-dd96-756ea7036498"
      },
      "execution_count": 4,
      "outputs": [
        {
          "output_type": "execute_result",
          "data": {
            "text/plain": [
              "          hotel  is_canceled  lead_time  arrival_date_year arrival_date_month  \\\n",
              "0  Resort Hotel            0        342               2015               July   \n",
              "1  Resort Hotel            0        737               2015               July   \n",
              "2  Resort Hotel            0          7               2015               July   \n",
              "3  Resort Hotel            0         13               2015               July   \n",
              "4  Resort Hotel            0         14               2015               July   \n",
              "\n",
              "   arrival_date_week_number  arrival_date_day_of_month  \\\n",
              "0                        27                          1   \n",
              "1                        27                          1   \n",
              "2                        27                          1   \n",
              "3                        27                          1   \n",
              "4                        27                          1   \n",
              "\n",
              "   stays_in_weekend_nights  stays_in_week_nights  adults  ...  deposit_type  \\\n",
              "0                        0                     0       2  ...    No Deposit   \n",
              "1                        0                     0       2  ...    No Deposit   \n",
              "2                        0                     1       1  ...    No Deposit   \n",
              "3                        0                     1       1  ...    No Deposit   \n",
              "4                        0                     2       2  ...    No Deposit   \n",
              "\n",
              "   agent company days_in_waiting_list customer_type   adr  \\\n",
              "0    NaN     NaN                    0     Transient   0.0   \n",
              "1    NaN     NaN                    0     Transient   0.0   \n",
              "2    NaN     NaN                    0     Transient  75.0   \n",
              "3  304.0     NaN                    0     Transient  75.0   \n",
              "4  240.0     NaN                    0     Transient  98.0   \n",
              "\n",
              "   required_car_parking_spaces  total_of_special_requests  reservation_status  \\\n",
              "0                            0                          0           Check-Out   \n",
              "1                            0                          0           Check-Out   \n",
              "2                            0                          0           Check-Out   \n",
              "3                            0                          0           Check-Out   \n",
              "4                            0                          1           Check-Out   \n",
              "\n",
              "  reservation_status_date  \n",
              "0              2015-07-01  \n",
              "1              2015-07-01  \n",
              "2              2015-07-02  \n",
              "3              2015-07-02  \n",
              "4              2015-07-03  \n",
              "\n",
              "[5 rows x 32 columns]"
            ],
            "text/html": [
              "\n",
              "  <div id=\"df-487192e8-3186-4c49-8ac6-3a806bef7f16\">\n",
              "    <div class=\"colab-df-container\">\n",
              "      <div>\n",
              "<style scoped>\n",
              "    .dataframe tbody tr th:only-of-type {\n",
              "        vertical-align: middle;\n",
              "    }\n",
              "\n",
              "    .dataframe tbody tr th {\n",
              "        vertical-align: top;\n",
              "    }\n",
              "\n",
              "    .dataframe thead th {\n",
              "        text-align: right;\n",
              "    }\n",
              "</style>\n",
              "<table border=\"1\" class=\"dataframe\">\n",
              "  <thead>\n",
              "    <tr style=\"text-align: right;\">\n",
              "      <th></th>\n",
              "      <th>hotel</th>\n",
              "      <th>is_canceled</th>\n",
              "      <th>lead_time</th>\n",
              "      <th>arrival_date_year</th>\n",
              "      <th>arrival_date_month</th>\n",
              "      <th>arrival_date_week_number</th>\n",
              "      <th>arrival_date_day_of_month</th>\n",
              "      <th>stays_in_weekend_nights</th>\n",
              "      <th>stays_in_week_nights</th>\n",
              "      <th>adults</th>\n",
              "      <th>...</th>\n",
              "      <th>deposit_type</th>\n",
              "      <th>agent</th>\n",
              "      <th>company</th>\n",
              "      <th>days_in_waiting_list</th>\n",
              "      <th>customer_type</th>\n",
              "      <th>adr</th>\n",
              "      <th>required_car_parking_spaces</th>\n",
              "      <th>total_of_special_requests</th>\n",
              "      <th>reservation_status</th>\n",
              "      <th>reservation_status_date</th>\n",
              "    </tr>\n",
              "  </thead>\n",
              "  <tbody>\n",
              "    <tr>\n",
              "      <th>0</th>\n",
              "      <td>Resort Hotel</td>\n",
              "      <td>0</td>\n",
              "      <td>342</td>\n",
              "      <td>2015</td>\n",
              "      <td>July</td>\n",
              "      <td>27</td>\n",
              "      <td>1</td>\n",
              "      <td>0</td>\n",
              "      <td>0</td>\n",
              "      <td>2</td>\n",
              "      <td>...</td>\n",
              "      <td>No Deposit</td>\n",
              "      <td>NaN</td>\n",
              "      <td>NaN</td>\n",
              "      <td>0</td>\n",
              "      <td>Transient</td>\n",
              "      <td>0.0</td>\n",
              "      <td>0</td>\n",
              "      <td>0</td>\n",
              "      <td>Check-Out</td>\n",
              "      <td>2015-07-01</td>\n",
              "    </tr>\n",
              "    <tr>\n",
              "      <th>1</th>\n",
              "      <td>Resort Hotel</td>\n",
              "      <td>0</td>\n",
              "      <td>737</td>\n",
              "      <td>2015</td>\n",
              "      <td>July</td>\n",
              "      <td>27</td>\n",
              "      <td>1</td>\n",
              "      <td>0</td>\n",
              "      <td>0</td>\n",
              "      <td>2</td>\n",
              "      <td>...</td>\n",
              "      <td>No Deposit</td>\n",
              "      <td>NaN</td>\n",
              "      <td>NaN</td>\n",
              "      <td>0</td>\n",
              "      <td>Transient</td>\n",
              "      <td>0.0</td>\n",
              "      <td>0</td>\n",
              "      <td>0</td>\n",
              "      <td>Check-Out</td>\n",
              "      <td>2015-07-01</td>\n",
              "    </tr>\n",
              "    <tr>\n",
              "      <th>2</th>\n",
              "      <td>Resort Hotel</td>\n",
              "      <td>0</td>\n",
              "      <td>7</td>\n",
              "      <td>2015</td>\n",
              "      <td>July</td>\n",
              "      <td>27</td>\n",
              "      <td>1</td>\n",
              "      <td>0</td>\n",
              "      <td>1</td>\n",
              "      <td>1</td>\n",
              "      <td>...</td>\n",
              "      <td>No Deposit</td>\n",
              "      <td>NaN</td>\n",
              "      <td>NaN</td>\n",
              "      <td>0</td>\n",
              "      <td>Transient</td>\n",
              "      <td>75.0</td>\n",
              "      <td>0</td>\n",
              "      <td>0</td>\n",
              "      <td>Check-Out</td>\n",
              "      <td>2015-07-02</td>\n",
              "    </tr>\n",
              "    <tr>\n",
              "      <th>3</th>\n",
              "      <td>Resort Hotel</td>\n",
              "      <td>0</td>\n",
              "      <td>13</td>\n",
              "      <td>2015</td>\n",
              "      <td>July</td>\n",
              "      <td>27</td>\n",
              "      <td>1</td>\n",
              "      <td>0</td>\n",
              "      <td>1</td>\n",
              "      <td>1</td>\n",
              "      <td>...</td>\n",
              "      <td>No Deposit</td>\n",
              "      <td>304.0</td>\n",
              "      <td>NaN</td>\n",
              "      <td>0</td>\n",
              "      <td>Transient</td>\n",
              "      <td>75.0</td>\n",
              "      <td>0</td>\n",
              "      <td>0</td>\n",
              "      <td>Check-Out</td>\n",
              "      <td>2015-07-02</td>\n",
              "    </tr>\n",
              "    <tr>\n",
              "      <th>4</th>\n",
              "      <td>Resort Hotel</td>\n",
              "      <td>0</td>\n",
              "      <td>14</td>\n",
              "      <td>2015</td>\n",
              "      <td>July</td>\n",
              "      <td>27</td>\n",
              "      <td>1</td>\n",
              "      <td>0</td>\n",
              "      <td>2</td>\n",
              "      <td>2</td>\n",
              "      <td>...</td>\n",
              "      <td>No Deposit</td>\n",
              "      <td>240.0</td>\n",
              "      <td>NaN</td>\n",
              "      <td>0</td>\n",
              "      <td>Transient</td>\n",
              "      <td>98.0</td>\n",
              "      <td>0</td>\n",
              "      <td>1</td>\n",
              "      <td>Check-Out</td>\n",
              "      <td>2015-07-03</td>\n",
              "    </tr>\n",
              "  </tbody>\n",
              "</table>\n",
              "<p>5 rows × 32 columns</p>\n",
              "</div>\n",
              "      <button class=\"colab-df-convert\" onclick=\"convertToInteractive('df-487192e8-3186-4c49-8ac6-3a806bef7f16')\"\n",
              "              title=\"Convert this dataframe to an interactive table.\"\n",
              "              style=\"display:none;\">\n",
              "        \n",
              "  <svg xmlns=\"http://www.w3.org/2000/svg\" height=\"24px\"viewBox=\"0 0 24 24\"\n",
              "       width=\"24px\">\n",
              "    <path d=\"M0 0h24v24H0V0z\" fill=\"none\"/>\n",
              "    <path d=\"M18.56 5.44l.94 2.06.94-2.06 2.06-.94-2.06-.94-.94-2.06-.94 2.06-2.06.94zm-11 1L8.5 8.5l.94-2.06 2.06-.94-2.06-.94L8.5 2.5l-.94 2.06-2.06.94zm10 10l.94 2.06.94-2.06 2.06-.94-2.06-.94-.94-2.06-.94 2.06-2.06.94z\"/><path d=\"M17.41 7.96l-1.37-1.37c-.4-.4-.92-.59-1.43-.59-.52 0-1.04.2-1.43.59L10.3 9.45l-7.72 7.72c-.78.78-.78 2.05 0 2.83L4 21.41c.39.39.9.59 1.41.59.51 0 1.02-.2 1.41-.59l7.78-7.78 2.81-2.81c.8-.78.8-2.07 0-2.86zM5.41 20L4 18.59l7.72-7.72 1.47 1.35L5.41 20z\"/>\n",
              "  </svg>\n",
              "      </button>\n",
              "      \n",
              "  <style>\n",
              "    .colab-df-container {\n",
              "      display:flex;\n",
              "      flex-wrap:wrap;\n",
              "      gap: 12px;\n",
              "    }\n",
              "\n",
              "    .colab-df-convert {\n",
              "      background-color: #E8F0FE;\n",
              "      border: none;\n",
              "      border-radius: 50%;\n",
              "      cursor: pointer;\n",
              "      display: none;\n",
              "      fill: #1967D2;\n",
              "      height: 32px;\n",
              "      padding: 0 0 0 0;\n",
              "      width: 32px;\n",
              "    }\n",
              "\n",
              "    .colab-df-convert:hover {\n",
              "      background-color: #E2EBFA;\n",
              "      box-shadow: 0px 1px 2px rgba(60, 64, 67, 0.3), 0px 1px 3px 1px rgba(60, 64, 67, 0.15);\n",
              "      fill: #174EA6;\n",
              "    }\n",
              "\n",
              "    [theme=dark] .colab-df-convert {\n",
              "      background-color: #3B4455;\n",
              "      fill: #D2E3FC;\n",
              "    }\n",
              "\n",
              "    [theme=dark] .colab-df-convert:hover {\n",
              "      background-color: #434B5C;\n",
              "      box-shadow: 0px 1px 3px 1px rgba(0, 0, 0, 0.15);\n",
              "      filter: drop-shadow(0px 1px 2px rgba(0, 0, 0, 0.3));\n",
              "      fill: #FFFFFF;\n",
              "    }\n",
              "  </style>\n",
              "\n",
              "      <script>\n",
              "        const buttonEl =\n",
              "          document.querySelector('#df-487192e8-3186-4c49-8ac6-3a806bef7f16 button.colab-df-convert');\n",
              "        buttonEl.style.display =\n",
              "          google.colab.kernel.accessAllowed ? 'block' : 'none';\n",
              "\n",
              "        async function convertToInteractive(key) {\n",
              "          const element = document.querySelector('#df-487192e8-3186-4c49-8ac6-3a806bef7f16');\n",
              "          const dataTable =\n",
              "            await google.colab.kernel.invokeFunction('convertToInteractive',\n",
              "                                                     [key], {});\n",
              "          if (!dataTable) return;\n",
              "\n",
              "          const docLinkHtml = 'Like what you see? Visit the ' +\n",
              "            '<a target=\"_blank\" href=https://colab.research.google.com/notebooks/data_table.ipynb>data table notebook</a>'\n",
              "            + ' to learn more about interactive tables.';\n",
              "          element.innerHTML = '';\n",
              "          dataTable['output_type'] = 'display_data';\n",
              "          await google.colab.output.renderOutput(dataTable, element);\n",
              "          const docLink = document.createElement('div');\n",
              "          docLink.innerHTML = docLinkHtml;\n",
              "          element.appendChild(docLink);\n",
              "        }\n",
              "      </script>\n",
              "    </div>\n",
              "  </div>\n",
              "  "
            ]
          },
          "metadata": {},
          "execution_count": 4
        }
      ]
    },
    {
      "cell_type": "code",
      "source": [
        "dataset.info()"
      ],
      "metadata": {
        "colab": {
          "base_uri": "https://localhost:8080/"
        },
        "id": "n46Egl9U4aKl",
        "outputId": "a9fe396e-ca65-4372-cb86-ab7f3b76eea8"
      },
      "execution_count": 5,
      "outputs": [
        {
          "output_type": "stream",
          "name": "stdout",
          "text": [
            "<class 'pandas.core.frame.DataFrame'>\n",
            "RangeIndex: 119390 entries, 0 to 119389\n",
            "Data columns (total 32 columns):\n",
            " #   Column                          Non-Null Count   Dtype  \n",
            "---  ------                          --------------   -----  \n",
            " 0   hotel                           119390 non-null  object \n",
            " 1   is_canceled                     119390 non-null  int64  \n",
            " 2   lead_time                       119390 non-null  int64  \n",
            " 3   arrival_date_year               119390 non-null  int64  \n",
            " 4   arrival_date_month              119390 non-null  object \n",
            " 5   arrival_date_week_number        119390 non-null  int64  \n",
            " 6   arrival_date_day_of_month       119390 non-null  int64  \n",
            " 7   stays_in_weekend_nights         119390 non-null  int64  \n",
            " 8   stays_in_week_nights            119390 non-null  int64  \n",
            " 9   adults                          119390 non-null  int64  \n",
            " 10  children                        119386 non-null  float64\n",
            " 11  babies                          119390 non-null  int64  \n",
            " 12  meal                            119390 non-null  object \n",
            " 13  country                         118902 non-null  object \n",
            " 14  market_segment                  119390 non-null  object \n",
            " 15  distribution_channel            119390 non-null  object \n",
            " 16  is_repeated_guest               119390 non-null  int64  \n",
            " 17  previous_cancellations          119390 non-null  int64  \n",
            " 18  previous_bookings_not_canceled  119390 non-null  int64  \n",
            " 19  reserved_room_type              119390 non-null  object \n",
            " 20  assigned_room_type              119390 non-null  object \n",
            " 21  booking_changes                 119390 non-null  int64  \n",
            " 22  deposit_type                    119390 non-null  object \n",
            " 23  agent                           103050 non-null  float64\n",
            " 24  company                         6797 non-null    float64\n",
            " 25  days_in_waiting_list            119390 non-null  int64  \n",
            " 26  customer_type                   119390 non-null  object \n",
            " 27  adr                             119390 non-null  float64\n",
            " 28  required_car_parking_spaces     119390 non-null  int64  \n",
            " 29  total_of_special_requests       119390 non-null  int64  \n",
            " 30  reservation_status              119390 non-null  object \n",
            " 31  reservation_status_date         119390 non-null  object \n",
            "dtypes: float64(4), int64(16), object(12)\n",
            "memory usage: 29.1+ MB\n"
          ]
        }
      ]
    },
    {
      "cell_type": "markdown",
      "source": [
        "# **DataSet Information:**\n",
        " \n",
        " hotel : Type of he hotel (Categorical)\n",
        " \n",
        " is_canceled : whether booking is canceled 0 - not canceled 1-canceled(Categorical)\n",
        "\n",
        "lead_time : the number of days between the time a guest books their room and the time they are scheduled to arrive at the hotel.(Numerical)\n",
        "\n",
        "arrival_date_year : year of Arravial (Numerical)\n",
        "\n",
        "arrival_date_month : month of arravial (Categorical)\n",
        "\n",
        "arrival_date_week_number : Week of arravail (Numerical)\n",
        "\n",
        "arrival_date_day_of_month : Arravial day (Nummerical)\n",
        "\n",
        "stays_in_weekend_nights : no of weekend nights during the stay (Numerical)\n",
        "\n",
        "stays_in_week_nights : no of night stays in week days (Numerical)\n",
        "\n",
        "adults : number of adults (Numerical)\n",
        "\n",
        "children : number of Childeren (Numerical)\n",
        "\n",
        "babies : number of babies (Numerical)\n",
        "\n",
        "meal : Type of meal (categorical)\n",
        "\n",
        "country : Country of customer (Categorical)\n",
        "\n",
        "market_segment : Means through wich hotel got booking (Categorical)\n",
        "\n",
        "distribution_channel :  Means through wich hotel got booking (Categorical)\n",
        "\n",
        "is_repeated_guest : whether the guest is repated 0-not repeated 1 -repeatd (categorical)\n",
        "\n",
        "previous_cancellations : number of canceletions done by customer previously (categorical)\n",
        "\n",
        "previous_bookings_not_canceled : number of bookings compeleted without canceletion (Numerical)\n",
        "\n",
        "reserved_room_type : reserved type of room (Categorical)\n",
        "\n",
        "assigned_room_type : type of room assigned (Categorical)\n",
        "\n",
        "booking_changes : canges made to booking (Numerical)\n",
        "\n",
        "deposit_type : type of deposit (categorical)\n",
        "\n",
        "agent : ID of agent (Categorical)\n",
        "\n",
        "company : ID of company (categorical)\n",
        "\n",
        "days_in_waiting_list : no of days to wait (Numerical)\n",
        "\n",
        "customer_type : type of customer (Categorical)\n",
        "\n",
        "required_car_parking_spaces : Number of parking spaces required (Numerical)\n",
        "\n",
        "total_of_special_requests : special request made by customer (Numberical)\n",
        "\n",
        "reservation_status : Status of reservation (Categorical)\n",
        "\n",
        "reservation_status_date : Date of reservation (Date)\n",
        "\n",
        "adr : average daily rate (Numerical)\n",
        "\n",
        "\n"
      ],
      "metadata": {
        "id": "EL0QpXvz5Hv8"
      }
    },
    {
      "cell_type": "code",
      "source": [
        "new_df = dataset.copy()"
      ],
      "metadata": {
        "id": "dS-ku4lvlQqk"
      },
      "execution_count": 43,
      "outputs": []
    },
    {
      "cell_type": "markdown",
      "source": [
        "# **Data Cleaning**\n",
        "\n",
        "Data cleaning is an importent part of EDA, in data cleaning we perform operations like\n",
        "\n",
        " 1) Removing Duplicates\n",
        "\n",
        " 2) Handling missing values\n",
        "\n",
        " 3) Handling Features (i.e, Merging similar columns, removing irrelavant columns and correting the data types)"
      ],
      "metadata": {
        "id": "k1GhHZfqiAGT"
      }
    },
    {
      "cell_type": "markdown",
      "source": [
        "**1.Removing Duplicates**"
      ],
      "metadata": {
        "id": "W2Qk7DNmkSX2"
      }
    },
    {
      "cell_type": "code",
      "source": [
        "# Show no. of rows of duplicate rows duplicate rows\n",
        "new_df[new_df.duplicated()].shape   "
      ],
      "metadata": {
        "colab": {
          "base_uri": "https://localhost:8080/"
        },
        "id": "unzyHkzOkOFB",
        "outputId": "5f409a06-3e48-44d1-ce5e-7e301fb50e72"
      },
      "execution_count": 45,
      "outputs": [
        {
          "output_type": "execute_result",
          "data": {
            "text/plain": [
              "(31994, 32)"
            ]
          },
          "metadata": {},
          "execution_count": 45
        }
      ]
    },
    {
      "cell_type": "code",
      "source": [
        "# Removing duplicate values\n",
        "new_df.drop_duplicates(inplace = True)"
      ],
      "metadata": {
        "id": "s6bAocOJlwji"
      },
      "execution_count": 46,
      "outputs": []
    },
    {
      "cell_type": "code",
      "source": [
        "new_df[new_df.duplicated()].shape"
      ],
      "metadata": {
        "colab": {
          "base_uri": "https://localhost:8080/"
        },
        "id": "9rwiBnADmCfb",
        "outputId": "023bf9b6-04fb-4a14-8c38-6f37451390be"
      },
      "execution_count": 48,
      "outputs": [
        {
          "output_type": "execute_result",
          "data": {
            "text/plain": [
              "(0, 32)"
            ]
          },
          "metadata": {},
          "execution_count": 48
        }
      ]
    },
    {
      "cell_type": "code",
      "source": [
        "# number of obeservations after removing duplicates\n",
        "new_df.shape"
      ],
      "metadata": {
        "colab": {
          "base_uri": "https://localhost:8080/"
        },
        "id": "q8tE4VJLmPLY",
        "outputId": "736e0f49-9eff-4db5-9dc0-1d0d34e4a060"
      },
      "execution_count": 49,
      "outputs": [
        {
          "output_type": "execute_result",
          "data": {
            "text/plain": [
              "(87396, 32)"
            ]
          },
          "metadata": {},
          "execution_count": 49
        }
      ]
    },
    {
      "cell_type": "markdown",
      "source": [
        "**2.Handling missing values**"
      ],
      "metadata": {
        "id": "FLN9oPk1nUU7"
      }
    },
    {
      "cell_type": "code",
      "source": [
        "# null value count in each colum\n",
        "new_df.isnull().sum().sort_values()"
      ],
      "metadata": {
        "colab": {
          "base_uri": "https://localhost:8080/"
        },
        "id": "GCJR4Dx3nTqn",
        "outputId": "2bd85dcb-ce02-4f2c-f7e2-d0e06d25be5d"
      },
      "execution_count": 52,
      "outputs": [
        {
          "output_type": "execute_result",
          "data": {
            "text/plain": [
              "hotel                                 0\n",
              "total_of_special_requests             0\n",
              "required_car_parking_spaces           0\n",
              "adr                                   0\n",
              "customer_type                         0\n",
              "days_in_waiting_list                  0\n",
              "deposit_type                          0\n",
              "booking_changes                       0\n",
              "assigned_room_type                    0\n",
              "reserved_room_type                    0\n",
              "previous_bookings_not_canceled        0\n",
              "previous_cancellations                0\n",
              "is_repeated_guest                     0\n",
              "reservation_status                    0\n",
              "distribution_channel                  0\n",
              "reservation_status_date               0\n",
              "meal                                  0\n",
              "babies                                0\n",
              "adults                                0\n",
              "stays_in_week_nights                  0\n",
              "stays_in_weekend_nights               0\n",
              "arrival_date_day_of_month             0\n",
              "market_segment                        0\n",
              "is_canceled                           0\n",
              "arrival_date_week_number              0\n",
              "arrival_date_month                    0\n",
              "arrival_date_year                     0\n",
              "lead_time                             0\n",
              "children                              4\n",
              "country                             452\n",
              "agent                             12193\n",
              "company                           82137\n",
              "dtype: int64"
            ]
          },
          "metadata": {},
          "execution_count": 52
        }
      ]
    },
    {
      "cell_type": "markdown",
      "source": [
        "from above we can see that only four columns( children, country, agent and company) have missing values."
      ],
      "metadata": {
        "id": "vSp_aNMXpGIq"
      }
    },
    {
      "cell_type": "code",
      "source": [
        "new_df[['company','agent']] = new_df[['company','agent']].fillna(0)"
      ],
      "metadata": {
        "id": "zFedLB3jo9LR"
      },
      "execution_count": 53,
      "outputs": []
    },
    {
      "cell_type": "markdown",
      "source": [
        "Since agent and company are booking mediums for customers there is a chance that customer can book directly without any medium. So we can replace the null values with 0."
      ],
      "metadata": {
        "id": "tXsvlXgDrgg4"
      }
    },
    {
      "cell_type": "code",
      "source": [
        "new_df['country'] = new_df['country'].fillna('others')"
      ],
      "metadata": {
        "id": "-UjlzfyZsZ7J"
      },
      "execution_count": 56,
      "outputs": []
    },
    {
      "cell_type": "markdown",
      "source": [
        "We have 452 null values in country column, so we can fill these with 'others'"
      ],
      "metadata": {
        "id": "TThUeXGOsuU5"
      }
    },
    {
      "cell_type": "code",
      "source": [
        "new_df['children'] = new_df['children'].fillna(0)"
      ],
      "metadata": {
        "id": "EW-fduOBtJl-"
      },
      "execution_count": 58,
      "outputs": []
    },
    {
      "cell_type": "markdown",
      "source": [
        "We can replace the null values in childern column with 0, since there is a high chance for customers having zero childern might be missing to fill the column "
      ],
      "metadata": {
        "id": "GdRRgv4GtZ5x"
      }
    },
    {
      "cell_type": "code",
      "source": [
        "#checking all the missing values were removed\n",
        "new_df.isnull().sum().sort_values()"
      ],
      "metadata": {
        "colab": {
          "base_uri": "https://localhost:8080/"
        },
        "id": "IPxRmfZrulVm",
        "outputId": "088d5e97-86e3-4e5e-f9d2-1e0d767e7f1c"
      },
      "execution_count": 61,
      "outputs": [
        {
          "output_type": "execute_result",
          "data": {
            "text/plain": [
              "hotel                             0\n",
              "total_of_special_requests         0\n",
              "required_car_parking_spaces       0\n",
              "adr                               0\n",
              "customer_type                     0\n",
              "days_in_waiting_list              0\n",
              "company                           0\n",
              "agent                             0\n",
              "deposit_type                      0\n",
              "booking_changes                   0\n",
              "assigned_room_type                0\n",
              "reserved_room_type                0\n",
              "previous_bookings_not_canceled    0\n",
              "previous_cancellations            0\n",
              "is_repeated_guest                 0\n",
              "distribution_channel              0\n",
              "market_segment                    0\n",
              "country                           0\n",
              "meal                              0\n",
              "babies                            0\n",
              "children                          0\n",
              "adults                            0\n",
              "stays_in_week_nights              0\n",
              "stays_in_weekend_nights           0\n",
              "arrival_date_day_of_month         0\n",
              "arrival_date_week_number          0\n",
              "arrival_date_month                0\n",
              "arrival_date_year                 0\n",
              "lead_time                         0\n",
              "is_canceled                       0\n",
              "reservation_status                0\n",
              "reservation_status_date           0\n",
              "dtype: int64"
            ]
          },
          "metadata": {},
          "execution_count": 61
        }
      ]
    },
    {
      "cell_type": "markdown",
      "source": [
        "There are some rows where adult,children and babies column has 0 in it. We can remove those row for which these three column have 0 as value simultaneously."
      ],
      "metadata": {
        "id": "e9DD7F_qvs8M"
      }
    },
    {
      "cell_type": "code",
      "source": [
        "#checking how many rows have adult, childern and babies as 0\n",
        "new_df[new_df['adults']+new_df['children']+new_df['babies'] == 0].shape"
      ],
      "metadata": {
        "colab": {
          "base_uri": "https://localhost:8080/"
        },
        "id": "aSYiProZwbr1",
        "outputId": "2d635bf4-c397-473f-9031-f9a2068ef819"
      },
      "execution_count": 64,
      "outputs": [
        {
          "output_type": "execute_result",
          "data": {
            "text/plain": [
              "(166, 32)"
            ]
          },
          "metadata": {},
          "execution_count": 64
        }
      ]
    },
    {
      "cell_type": "code",
      "source": [
        "# we have 166 rows with 0 values so we can drop these rows\n",
        "new_df.drop(new_df[new_df['adults']+new_df['children']+new_df['babies'] == 0].index,inplace=True)"
      ],
      "metadata": {
        "id": "8y_YrVKkxT-w"
      },
      "execution_count": 65,
      "outputs": []
    },
    {
      "cell_type": "markdown",
      "source": [
        "**3.Features Handling**"
      ],
      "metadata": {
        "id": "cUn6FNuiu2ss"
      }
    },
    {
      "cell_type": "code",
      "source": [
        "new_df.info()"
      ],
      "metadata": {
        "colab": {
          "base_uri": "https://localhost:8080/"
        },
        "id": "bNwicmP8u-q6",
        "outputId": "880cfdfb-142c-40b5-eadb-31579781b187"
      },
      "execution_count": 67,
      "outputs": [
        {
          "output_type": "stream",
          "name": "stdout",
          "text": [
            "<class 'pandas.core.frame.DataFrame'>\n",
            "Int64Index: 87230 entries, 0 to 119389\n",
            "Data columns (total 32 columns):\n",
            " #   Column                          Non-Null Count  Dtype  \n",
            "---  ------                          --------------  -----  \n",
            " 0   hotel                           87230 non-null  object \n",
            " 1   is_canceled                     87230 non-null  int64  \n",
            " 2   lead_time                       87230 non-null  int64  \n",
            " 3   arrival_date_year               87230 non-null  int64  \n",
            " 4   arrival_date_month              87230 non-null  object \n",
            " 5   arrival_date_week_number        87230 non-null  int64  \n",
            " 6   arrival_date_day_of_month       87230 non-null  int64  \n",
            " 7   stays_in_weekend_nights         87230 non-null  int64  \n",
            " 8   stays_in_week_nights            87230 non-null  int64  \n",
            " 9   adults                          87230 non-null  int64  \n",
            " 10  children                        87230 non-null  float64\n",
            " 11  babies                          87230 non-null  int64  \n",
            " 12  meal                            87230 non-null  object \n",
            " 13  country                         87230 non-null  object \n",
            " 14  market_segment                  87230 non-null  object \n",
            " 15  distribution_channel            87230 non-null  object \n",
            " 16  is_repeated_guest               87230 non-null  int64  \n",
            " 17  previous_cancellations          87230 non-null  int64  \n",
            " 18  previous_bookings_not_canceled  87230 non-null  int64  \n",
            " 19  reserved_room_type              87230 non-null  object \n",
            " 20  assigned_room_type              87230 non-null  object \n",
            " 21  booking_changes                 87230 non-null  int64  \n",
            " 22  deposit_type                    87230 non-null  object \n",
            " 23  agent                           87230 non-null  float64\n",
            " 24  company                         87230 non-null  float64\n",
            " 25  days_in_waiting_list            87230 non-null  int64  \n",
            " 26  customer_type                   87230 non-null  object \n",
            " 27  adr                             87230 non-null  float64\n",
            " 28  required_car_parking_spaces     87230 non-null  int64  \n",
            " 29  total_of_special_requests       87230 non-null  int64  \n",
            " 30  reservation_status              87230 non-null  object \n",
            " 31  reservation_status_date         87230 non-null  object \n",
            "dtypes: float64(4), int64(16), object(12)\n",
            "memory usage: 22.0+ MB\n"
          ]
        }
      ]
    },
    {
      "cell_type": "code",
      "source": [
        "new_df[['market_segment','distribution_channel']].value_counts()"
      ],
      "metadata": {
        "colab": {
          "base_uri": "https://localhost:8080/"
        },
        "id": "kCOZH71ayY_9",
        "outputId": "7fcde61f-cbf8-484c-d33e-ad449dadffbd"
      },
      "execution_count": 69,
      "outputs": [
        {
          "output_type": "execute_result",
          "data": {
            "text/plain": [
              "market_segment  distribution_channel\n",
              "Online TA       TA/TO                   51254\n",
              "Offline TA/TO   TA/TO                   13700\n",
              "Direct          Direct                  11467\n",
              "Corporate       Corporate                3893\n",
              "Groups          TA/TO                    3606\n",
              "                Corporate                 665\n",
              "                Direct                    651\n",
              "Complementary   Direct                    539\n",
              "Direct          TA/TO                     229\n",
              "Aviation        Corporate                 216\n",
              "Corporate       TA/TO                     154\n",
              "                Direct                    153\n",
              "Online TA       GDS                       136\n",
              "                Direct                    128\n",
              "Offline TA/TO   Corporate                  95\n",
              "Direct          Corporate                  81\n",
              "Complementary   Corporate                  78\n",
              "                TA/TO                      75\n",
              "Offline TA/TO   GDS                        44\n",
              "Online TA       Corporate                  34\n",
              "Offline TA/TO   Direct                     16\n",
              "Aviation        TA/TO                      10\n",
              "Direct          Undefined                   2\n",
              "Undefined       Undefined                   2\n",
              "Direct          GDS                         1\n",
              "Online TA       Undefined                   1\n",
              "dtype: int64"
            ]
          },
          "metadata": {},
          "execution_count": 69
        }
      ]
    },
    {
      "cell_type": "markdown",
      "source": [
        "From above we can see that, even though market_segment and distribution_channel looks similar but there sub categories in each market_segment. So we cannot merge or remove any one of these two columns."
      ],
      "metadata": {
        "id": "jyb10UrK0T1m"
      }
    },
    {
      "cell_type": "markdown",
      "source": [
        ""
      ],
      "metadata": {
        "id": "jscC0NG91SXb"
      }
    },
    {
      "cell_type": "markdown",
      "source": [
        "We can create a new colums for total number of night stays by adding stays_in_weekend_nights and stays_in_week_nights as total_night_stays"
      ],
      "metadata": {
        "id": "GeirC4aQ1S3U"
      }
    },
    {
      "cell_type": "code",
      "source": [
        "#creating new column for total night stays\n",
        "new_df['total_night_stays'] = new_df['stays_in_week_nights']+new_df['stays_in_weekend_nights']"
      ],
      "metadata": {
        "id": "pGSPk_XE1okO"
      },
      "execution_count": 70,
      "outputs": []
    },
    {
      "cell_type": "code",
      "source": [
        "#creating new column for total number of people\n",
        "new_df['total_people'] = new_df['babies']+new_df['children']+new_df['adults']"
      ],
      "metadata": {
        "id": "KtwbZ3BV19n-"
      },
      "execution_count": 72,
      "outputs": []
    },
    {
      "cell_type": "code",
      "source": [
        "#changing data type from float to integer\n",
        "new_df[['children', 'company', 'agent','total_people']] = new_df[['children', 'company', 'agent','total_people']].astype('int64')"
      ],
      "metadata": {
        "id": "gpx6jMtW217o"
      },
      "execution_count": 75,
      "outputs": []
    },
    {
      "cell_type": "code",
      "source": [
        "#changing to date type from string\n",
        "new_df['reservation_status_date'] = pd.to_datetime(new_df['reservation_status_date'], format = '%Y-%m-%d')"
      ],
      "metadata": {
        "id": "F0DcQlvj4KFQ"
      },
      "execution_count": 77,
      "outputs": []
    }
  ]
}